{
  "nbformat": 4,
  "nbformat_minor": 0,
  "metadata": {
    "kernelspec": {
      "display_name": "Python 3",
      "name": "python3"
    },
    "language_info": {
      "codemirror_mode": {
        "name": "ipython",
        "version": 3
      },
      "file_extension": ".py",
      "mimetype": "text/x-python",
      "name": "python",
      "nbconvert_exporter": "python",
      "pygments_lexer": "ipython3",
      "version": "3.7.6"
    },
    "colab": {
      "provenance": [],
      "collapsed_sections": [
        "T9jD_6SeJrF3",
        "5DfCSbbmJrF4",
        "yYzD85nTJrGA",
        "piyLxzj6v07j",
        "280Vbqk-7a8M"
      ],
      "gpuType": "T4",
      "include_colab_link": true
    },
    "accelerator": "GPU"
  },
  "cells": [
    {
      "cell_type": "markdown",
      "metadata": {
        "id": "view-in-github",
        "colab_type": "text"
      },
      "source": [
        "<a href=\"https://colab.research.google.com/github/hargurjeet/NLP_Automatic_Ticket_Classification/blob/main/Automatic_Ticket_Classification_Assignment.ipynb\" target=\"_parent\"><img src=\"https://colab.research.google.com/assets/colab-badge.svg\" alt=\"Open In Colab\"/></a>"
      ]
    },
    {
      "cell_type": "markdown",
      "metadata": {
        "id": "rhR-ZUkwJrFn"
      },
      "source": [
        "## Problem Statement\n",
        "\n",
        "You need to build a model that is able to classify customer complaints based on the products/services. By doing so, you can segregate these tickets into their relevant categories and, therefore, help in the quick resolution of the issue.\n",
        "\n",
        "You will be doing topic modelling on the <b>.json</b> data provided by the company. Since this data is not labelled, you need to apply NMF to analyse patterns and classify tickets into the following five clusters based on their products/services:\n",
        "\n",
        "* Credit card / Prepaid card\n",
        "\n",
        "* Bank account services\n",
        "\n",
        "* Theft/Dispute reporting\n",
        "\n",
        "* Mortgages/loans\n",
        "\n",
        "* Others\n",
        "\n",
        "\n",
        "With the help of topic modelling, you will be able to map each ticket onto its respective department/category. You can then use this data to train any supervised model such as logistic regression, decision tree or random forest. Using this trained model, you can classify any new customer complaint support ticket into its relevant department."
      ]
    },
    {
      "cell_type": "markdown",
      "metadata": {
        "id": "mcgXVNyaLUFS"
      },
      "source": [
        "## Pipelines that needs to be performed:\n",
        "\n",
        "You need to perform the following eight major tasks to complete the assignment:\n",
        "\n",
        "1.  Data loading\n",
        "\n",
        "2. Text preprocessing\n",
        "\n",
        "3. Exploratory data analysis (EDA)\n",
        "\n",
        "4. Feature extraction\n",
        "\n",
        "5. Topic modelling\n",
        "\n",
        "6. Model building using supervised learning\n",
        "\n",
        "7. Model training and evaluation\n",
        "\n",
        "8. Model inference"
      ]
    },
    {
      "cell_type": "markdown",
      "metadata": {
        "id": "JuLFIymAL58u"
      },
      "source": [
        "## Importing the necessary libraries"
      ]
    },
    {
      "cell_type": "code",
      "metadata": {
        "id": "O-Q9pqrcJrFr",
        "colab": {
          "base_uri": "https://localhost:8080/"
        },
        "outputId": "33ed71ee-6e96-4fa0-cdc4-7d33c86f9b16"
      },
      "source": [
        "import json\n",
        "import numpy as np\n",
        "import pandas as pd\n",
        "import re, nltk, spacy, string\n",
        "import en_core_web_sm\n",
        "nlp = en_core_web_sm.load()\n",
        "import seaborn as sns\n",
        "import matplotlib.pyplot as plt\n",
        "%matplotlib inline\n",
        "import requests\n",
        "import zipfile\n",
        "\n",
        "from plotly.offline import plot\n",
        "import plotly.graph_objects as go\n",
        "import plotly.express as px\n",
        "\n",
        "from sklearn.feature_extraction.text import CountVectorizer, TfidfVectorizer\n",
        "from pprint import pprint\n",
        "from nltk.stem import WordNetLemmatizer\n",
        "nltk.download('wordnet')\n",
        "nltk.download('averaged_perceptron_tagger')\n",
        "nltk.download('punkt')"
      ],
      "execution_count": 1,
      "outputs": [
        {
          "output_type": "stream",
          "name": "stderr",
          "text": [
            "[nltk_data] Downloading package wordnet to /root/nltk_data...\n",
            "[nltk_data] Downloading package averaged_perceptron_tagger to\n",
            "[nltk_data]     /root/nltk_data...\n",
            "[nltk_data]   Unzipping taggers/averaged_perceptron_tagger.zip.\n",
            "[nltk_data] Downloading package punkt to /root/nltk_data...\n",
            "[nltk_data]   Unzipping tokenizers/punkt.zip.\n"
          ]
        },
        {
          "output_type": "execute_result",
          "data": {
            "text/plain": [
              "True"
            ]
          },
          "metadata": {},
          "execution_count": 1
        }
      ]
    },
    {
      "cell_type": "markdown",
      "metadata": {
        "id": "KtRLCsNVJrFt"
      },
      "source": [
        "## Loading the data\n",
        "\n",
        "The data is in JSON format and we need to convert it to a dataframe."
      ]
    },
    {
      "cell_type": "code",
      "source": [
        "!pip install gitpython"
      ],
      "metadata": {
        "colab": {
          "base_uri": "https://localhost:8080/"
        },
        "id": "pqvY7r6AAgTN",
        "outputId": "e90de2ea-097e-413a-fe1f-bbf97c6535be"
      },
      "execution_count": 2,
      "outputs": [
        {
          "output_type": "stream",
          "name": "stdout",
          "text": [
            "Collecting gitpython\n",
            "  Downloading GitPython-3.1.31-py3-none-any.whl (184 kB)\n",
            "\u001b[2K     \u001b[90m━━━━━━━━━━━━━━━━━━━━━━━━━━━━━━━━━━━━━━━\u001b[0m \u001b[32m184.3/184.3 kB\u001b[0m \u001b[31m4.7 MB/s\u001b[0m eta \u001b[36m0:00:00\u001b[0m\n",
            "\u001b[?25hCollecting gitdb<5,>=4.0.1 (from gitpython)\n",
            "  Downloading gitdb-4.0.10-py3-none-any.whl (62 kB)\n",
            "\u001b[2K     \u001b[90m━━━━━━━━━━━━━━━━━━━━━━━━━━━━━━━━━━━━━━━━\u001b[0m \u001b[32m62.7/62.7 kB\u001b[0m \u001b[31m7.3 MB/s\u001b[0m eta \u001b[36m0:00:00\u001b[0m\n",
            "\u001b[?25hCollecting smmap<6,>=3.0.1 (from gitdb<5,>=4.0.1->gitpython)\n",
            "  Downloading smmap-5.0.0-py3-none-any.whl (24 kB)\n",
            "Installing collected packages: smmap, gitdb, gitpython\n",
            "Successfully installed gitdb-4.0.10 gitpython-3.1.31 smmap-5.0.0\n"
          ]
        }
      ]
    },
    {
      "cell_type": "code",
      "source": [
        "from git import Repo\n",
        "\n",
        "# URL of the GitHub repository to clone\n",
        "repo_url = 'https://github.com/hargurjeet/NLP_Automatic_Ticket_Classification.git'\n",
        "\n",
        "# Directory where the repository will be cloned\n",
        "clone_directory = '/content/git_repo'\n",
        "\n",
        "# Clone the repository\n",
        "Repo.clone_from(repo_url, clone_directory)"
      ],
      "metadata": {
        "colab": {
          "base_uri": "https://localhost:8080/"
        },
        "id": "THQKN-08AT4K",
        "outputId": "4e555f79-9f3d-4f3b-ec79-81f2223768b3"
      },
      "execution_count": 3,
      "outputs": [
        {
          "output_type": "execute_result",
          "data": {
            "text/plain": [
              "<git.repo.base.Repo '/content/git_repo/.git'>"
            ]
          },
          "metadata": {},
          "execution_count": 3
        }
      ]
    },
    {
      "cell_type": "code",
      "source": [
        "import zipfile\n",
        "\n",
        "def unzip_file(zip_path, extract_path):\n",
        "    with zipfile.ZipFile(zip_path, 'r') as zip_ref:\n",
        "        zip_ref.extractall(extract_path)\n",
        "\n",
        "# Example usage\n",
        "zip_path = '/content/git_repo/complaints-2021-05-14_08_16.zip'\n",
        "extract_path = '/content/'\n",
        "unzip_file(zip_path, extract_path)\n",
        "print('Zip file download and unzipped sucessfully')"
      ],
      "metadata": {
        "colab": {
          "base_uri": "https://localhost:8080/"
        },
        "id": "hVETsXx2Bf8T",
        "outputId": "e516c9a5-9ba8-4943-f79d-c38e2cd0c7ed"
      },
      "execution_count": 4,
      "outputs": [
        {
          "output_type": "stream",
          "name": "stdout",
          "text": [
            "Zip file download and unzipped sucessfully\n"
          ]
        }
      ]
    },
    {
      "cell_type": "code",
      "source": [
        "# Opening JSON file\n",
        "with open(r'/content/complaints-2021-05-14_08_16.json', 'r') as json_file:\n",
        "  data = json.load(json_file)\n",
        "\n",
        "df=pd.json_normalize(data)\n",
        "df.head(2)"
      ],
      "metadata": {
        "colab": {
          "base_uri": "https://localhost:8080/",
          "height": 275
        },
        "id": "n4dtc5H3EpwV",
        "outputId": "f461daf2-7241-4405-f6a8-04f32eb316ba"
      },
      "execution_count": 5,
      "outputs": [
        {
          "output_type": "execute_result",
          "data": {
            "text/plain": [
              "                _index      _type      _id  _score   _source.tags  \\\n",
              "0  complaint-public-v2  complaint  3211475     0.0           None   \n",
              "1  complaint-public-v2  complaint  3229299     0.0  Servicemember   \n",
              "\n",
              "  _source.zip_code _source.complaint_id                      _source.issue  \\\n",
              "0            90301              3211475  Attempts to collect debt not owed   \n",
              "1            319XX              3229299    Written notification about debt   \n",
              "\n",
              "       _source.date_received _source.state  ... _source.company_response  \\\n",
              "0  2019-04-13T12:00:00-05:00            CA  ...  Closed with explanation   \n",
              "1  2019-05-01T12:00:00-05:00            GA  ...  Closed with explanation   \n",
              "\n",
              "        _source.company _source.submitted_via _source.date_sent_to_company  \\\n",
              "0  JPMORGAN CHASE & CO.                   Web    2019-04-13T12:00:00-05:00   \n",
              "1  JPMORGAN CHASE & CO.                   Web    2019-05-01T12:00:00-05:00   \n",
              "\n",
              "  _source.company_public_response _source.sub_product _source.timely  \\\n",
              "0                            None    Credit card debt            Yes   \n",
              "1                            None    Credit card debt            Yes   \n",
              "\n",
              "                     _source.complaint_what_happened  \\\n",
              "0                                                      \n",
              "1  Good morning my name is XXXX XXXX and I apprec...   \n",
              "\n",
              "                                  _source.sub_issue  \\\n",
              "0                                 Debt is not yours   \n",
              "1  Didn't receive enough information to verify debt   \n",
              "\n",
              "  _source.consumer_consent_provided  \n",
              "0              Consent not provided  \n",
              "1                  Consent provided  \n",
              "\n",
              "[2 rows x 22 columns]"
            ],
            "text/html": [
              "\n",
              "  <div id=\"df-7e9ff16e-1ec2-411e-8224-01f505f8ec01\">\n",
              "    <div class=\"colab-df-container\">\n",
              "      <div>\n",
              "<style scoped>\n",
              "    .dataframe tbody tr th:only-of-type {\n",
              "        vertical-align: middle;\n",
              "    }\n",
              "\n",
              "    .dataframe tbody tr th {\n",
              "        vertical-align: top;\n",
              "    }\n",
              "\n",
              "    .dataframe thead th {\n",
              "        text-align: right;\n",
              "    }\n",
              "</style>\n",
              "<table border=\"1\" class=\"dataframe\">\n",
              "  <thead>\n",
              "    <tr style=\"text-align: right;\">\n",
              "      <th></th>\n",
              "      <th>_index</th>\n",
              "      <th>_type</th>\n",
              "      <th>_id</th>\n",
              "      <th>_score</th>\n",
              "      <th>_source.tags</th>\n",
              "      <th>_source.zip_code</th>\n",
              "      <th>_source.complaint_id</th>\n",
              "      <th>_source.issue</th>\n",
              "      <th>_source.date_received</th>\n",
              "      <th>_source.state</th>\n",
              "      <th>...</th>\n",
              "      <th>_source.company_response</th>\n",
              "      <th>_source.company</th>\n",
              "      <th>_source.submitted_via</th>\n",
              "      <th>_source.date_sent_to_company</th>\n",
              "      <th>_source.company_public_response</th>\n",
              "      <th>_source.sub_product</th>\n",
              "      <th>_source.timely</th>\n",
              "      <th>_source.complaint_what_happened</th>\n",
              "      <th>_source.sub_issue</th>\n",
              "      <th>_source.consumer_consent_provided</th>\n",
              "    </tr>\n",
              "  </thead>\n",
              "  <tbody>\n",
              "    <tr>\n",
              "      <th>0</th>\n",
              "      <td>complaint-public-v2</td>\n",
              "      <td>complaint</td>\n",
              "      <td>3211475</td>\n",
              "      <td>0.0</td>\n",
              "      <td>None</td>\n",
              "      <td>90301</td>\n",
              "      <td>3211475</td>\n",
              "      <td>Attempts to collect debt not owed</td>\n",
              "      <td>2019-04-13T12:00:00-05:00</td>\n",
              "      <td>CA</td>\n",
              "      <td>...</td>\n",
              "      <td>Closed with explanation</td>\n",
              "      <td>JPMORGAN CHASE &amp; CO.</td>\n",
              "      <td>Web</td>\n",
              "      <td>2019-04-13T12:00:00-05:00</td>\n",
              "      <td>None</td>\n",
              "      <td>Credit card debt</td>\n",
              "      <td>Yes</td>\n",
              "      <td></td>\n",
              "      <td>Debt is not yours</td>\n",
              "      <td>Consent not provided</td>\n",
              "    </tr>\n",
              "    <tr>\n",
              "      <th>1</th>\n",
              "      <td>complaint-public-v2</td>\n",
              "      <td>complaint</td>\n",
              "      <td>3229299</td>\n",
              "      <td>0.0</td>\n",
              "      <td>Servicemember</td>\n",
              "      <td>319XX</td>\n",
              "      <td>3229299</td>\n",
              "      <td>Written notification about debt</td>\n",
              "      <td>2019-05-01T12:00:00-05:00</td>\n",
              "      <td>GA</td>\n",
              "      <td>...</td>\n",
              "      <td>Closed with explanation</td>\n",
              "      <td>JPMORGAN CHASE &amp; CO.</td>\n",
              "      <td>Web</td>\n",
              "      <td>2019-05-01T12:00:00-05:00</td>\n",
              "      <td>None</td>\n",
              "      <td>Credit card debt</td>\n",
              "      <td>Yes</td>\n",
              "      <td>Good morning my name is XXXX XXXX and I apprec...</td>\n",
              "      <td>Didn't receive enough information to verify debt</td>\n",
              "      <td>Consent provided</td>\n",
              "    </tr>\n",
              "  </tbody>\n",
              "</table>\n",
              "<p>2 rows × 22 columns</p>\n",
              "</div>\n",
              "      <button class=\"colab-df-convert\" onclick=\"convertToInteractive('df-7e9ff16e-1ec2-411e-8224-01f505f8ec01')\"\n",
              "              title=\"Convert this dataframe to an interactive table.\"\n",
              "              style=\"display:none;\">\n",
              "        \n",
              "  <svg xmlns=\"http://www.w3.org/2000/svg\" height=\"24px\"viewBox=\"0 0 24 24\"\n",
              "       width=\"24px\">\n",
              "    <path d=\"M0 0h24v24H0V0z\" fill=\"none\"/>\n",
              "    <path d=\"M18.56 5.44l.94 2.06.94-2.06 2.06-.94-2.06-.94-.94-2.06-.94 2.06-2.06.94zm-11 1L8.5 8.5l.94-2.06 2.06-.94-2.06-.94L8.5 2.5l-.94 2.06-2.06.94zm10 10l.94 2.06.94-2.06 2.06-.94-2.06-.94-.94-2.06-.94 2.06-2.06.94z\"/><path d=\"M17.41 7.96l-1.37-1.37c-.4-.4-.92-.59-1.43-.59-.52 0-1.04.2-1.43.59L10.3 9.45l-7.72 7.72c-.78.78-.78 2.05 0 2.83L4 21.41c.39.39.9.59 1.41.59.51 0 1.02-.2 1.41-.59l7.78-7.78 2.81-2.81c.8-.78.8-2.07 0-2.86zM5.41 20L4 18.59l7.72-7.72 1.47 1.35L5.41 20z\"/>\n",
              "  </svg>\n",
              "      </button>\n",
              "      \n",
              "  <style>\n",
              "    .colab-df-container {\n",
              "      display:flex;\n",
              "      flex-wrap:wrap;\n",
              "      gap: 12px;\n",
              "    }\n",
              "\n",
              "    .colab-df-convert {\n",
              "      background-color: #E8F0FE;\n",
              "      border: none;\n",
              "      border-radius: 50%;\n",
              "      cursor: pointer;\n",
              "      display: none;\n",
              "      fill: #1967D2;\n",
              "      height: 32px;\n",
              "      padding: 0 0 0 0;\n",
              "      width: 32px;\n",
              "    }\n",
              "\n",
              "    .colab-df-convert:hover {\n",
              "      background-color: #E2EBFA;\n",
              "      box-shadow: 0px 1px 2px rgba(60, 64, 67, 0.3), 0px 1px 3px 1px rgba(60, 64, 67, 0.15);\n",
              "      fill: #174EA6;\n",
              "    }\n",
              "\n",
              "    [theme=dark] .colab-df-convert {\n",
              "      background-color: #3B4455;\n",
              "      fill: #D2E3FC;\n",
              "    }\n",
              "\n",
              "    [theme=dark] .colab-df-convert:hover {\n",
              "      background-color: #434B5C;\n",
              "      box-shadow: 0px 1px 3px 1px rgba(0, 0, 0, 0.15);\n",
              "      filter: drop-shadow(0px 1px 2px rgba(0, 0, 0, 0.3));\n",
              "      fill: #FFFFFF;\n",
              "    }\n",
              "  </style>\n",
              "\n",
              "      <script>\n",
              "        const buttonEl =\n",
              "          document.querySelector('#df-7e9ff16e-1ec2-411e-8224-01f505f8ec01 button.colab-df-convert');\n",
              "        buttonEl.style.display =\n",
              "          google.colab.kernel.accessAllowed ? 'block' : 'none';\n",
              "\n",
              "        async function convertToInteractive(key) {\n",
              "          const element = document.querySelector('#df-7e9ff16e-1ec2-411e-8224-01f505f8ec01');\n",
              "          const dataTable =\n",
              "            await google.colab.kernel.invokeFunction('convertToInteractive',\n",
              "                                                     [key], {});\n",
              "          if (!dataTable) return;\n",
              "\n",
              "          const docLinkHtml = 'Like what you see? Visit the ' +\n",
              "            '<a target=\"_blank\" href=https://colab.research.google.com/notebooks/data_table.ipynb>data table notebook</a>'\n",
              "            + ' to learn more about interactive tables.';\n",
              "          element.innerHTML = '';\n",
              "          dataTable['output_type'] = 'display_data';\n",
              "          await google.colab.output.renderOutput(dataTable, element);\n",
              "          const docLink = document.createElement('div');\n",
              "          docLink.innerHTML = docLinkHtml;\n",
              "          element.appendChild(docLink);\n",
              "        }\n",
              "      </script>\n",
              "    </div>\n",
              "  </div>\n",
              "  "
            ]
          },
          "metadata": {},
          "execution_count": 5
        }
      ]
    },
    {
      "cell_type": "code",
      "source": [
        "df.shape"
      ],
      "metadata": {
        "colab": {
          "base_uri": "https://localhost:8080/"
        },
        "id": "eiBL8P40Kacj",
        "outputId": "d0c3d226-8bf0-406d-c6cc-f7d81827bd04"
      },
      "execution_count": 6,
      "outputs": [
        {
          "output_type": "execute_result",
          "data": {
            "text/plain": [
              "(78313, 22)"
            ]
          },
          "metadata": {},
          "execution_count": 6
        }
      ]
    },
    {
      "cell_type": "markdown",
      "metadata": {
        "id": "_xYpH-sAJrFu"
      },
      "source": [
        "## Data preparation"
      ]
    },
    {
      "cell_type": "code",
      "metadata": {
        "id": "Lf8ufHH5JrFu",
        "colab": {
          "base_uri": "https://localhost:8080/",
          "height": 426
        },
        "outputId": "a42353df-72b3-47dd-b466-582c5f5a5e0c"
      },
      "source": [
        "# Inspect the dataframe to understand the given data.\n",
        "pd.set_option('display.max_columns', None)\n",
        "df.head()"
      ],
      "execution_count": 7,
      "outputs": [
        {
          "output_type": "execute_result",
          "data": {
            "text/plain": [
              "                _index      _type      _id  _score   _source.tags  \\\n",
              "0  complaint-public-v2  complaint  3211475     0.0           None   \n",
              "1  complaint-public-v2  complaint  3229299     0.0  Servicemember   \n",
              "2  complaint-public-v2  complaint  3199379     0.0           None   \n",
              "3  complaint-public-v2  complaint  2673060     0.0           None   \n",
              "4  complaint-public-v2  complaint  3203545     0.0           None   \n",
              "\n",
              "  _source.zip_code _source.complaint_id                       _source.issue  \\\n",
              "0            90301              3211475   Attempts to collect debt not owed   \n",
              "1            319XX              3229299     Written notification about debt   \n",
              "2            77069              3199379  Other features, terms, or problems   \n",
              "3            48066              2673060      Trouble during payment process   \n",
              "4            10473              3203545                    Fees or interest   \n",
              "\n",
              "       _source.date_received _source.state _source.consumer_disputed  \\\n",
              "0  2019-04-13T12:00:00-05:00            CA                       N/A   \n",
              "1  2019-05-01T12:00:00-05:00            GA                       N/A   \n",
              "2  2019-04-02T12:00:00-05:00            TX                       N/A   \n",
              "3  2017-09-13T12:00:00-05:00            MI                       N/A   \n",
              "4  2019-04-05T12:00:00-05:00            NY                       N/A   \n",
              "\n",
              "               _source.product _source.company_response       _source.company  \\\n",
              "0              Debt collection  Closed with explanation  JPMORGAN CHASE & CO.   \n",
              "1              Debt collection  Closed with explanation  JPMORGAN CHASE & CO.   \n",
              "2  Credit card or prepaid card  Closed with explanation  JPMORGAN CHASE & CO.   \n",
              "3                     Mortgage  Closed with explanation  JPMORGAN CHASE & CO.   \n",
              "4  Credit card or prepaid card  Closed with explanation  JPMORGAN CHASE & CO.   \n",
              "\n",
              "  _source.submitted_via _source.date_sent_to_company  \\\n",
              "0                   Web    2019-04-13T12:00:00-05:00   \n",
              "1                   Web    2019-05-01T12:00:00-05:00   \n",
              "2                   Web    2019-04-02T12:00:00-05:00   \n",
              "3                   Web    2017-09-14T12:00:00-05:00   \n",
              "4              Referral    2019-04-05T12:00:00-05:00   \n",
              "\n",
              "  _source.company_public_response                         _source.sub_product  \\\n",
              "0                            None                            Credit card debt   \n",
              "1                            None                            Credit card debt   \n",
              "2                            None  General-purpose credit card or charge card   \n",
              "3                            None                  Conventional home mortgage   \n",
              "4                            None  General-purpose credit card or charge card   \n",
              "\n",
              "  _source.timely                    _source.complaint_what_happened  \\\n",
              "0            Yes                                                      \n",
              "1            Yes  Good morning my name is XXXX XXXX and I apprec...   \n",
              "2            Yes  I upgraded my XXXX XXXX card in XX/XX/2018 and...   \n",
              "3            Yes                                                      \n",
              "4            Yes                                                      \n",
              "\n",
              "                                  _source.sub_issue  \\\n",
              "0                                 Debt is not yours   \n",
              "1  Didn't receive enough information to verify debt   \n",
              "2             Problem with rewards from credit card   \n",
              "3                                              None   \n",
              "4                         Charged too much interest   \n",
              "\n",
              "  _source.consumer_consent_provided  \n",
              "0              Consent not provided  \n",
              "1                  Consent provided  \n",
              "2                  Consent provided  \n",
              "3              Consent not provided  \n",
              "4                               N/A  "
            ],
            "text/html": [
              "\n",
              "  <div id=\"df-6cf78a23-8a6d-433a-8536-a94649054251\">\n",
              "    <div class=\"colab-df-container\">\n",
              "      <div>\n",
              "<style scoped>\n",
              "    .dataframe tbody tr th:only-of-type {\n",
              "        vertical-align: middle;\n",
              "    }\n",
              "\n",
              "    .dataframe tbody tr th {\n",
              "        vertical-align: top;\n",
              "    }\n",
              "\n",
              "    .dataframe thead th {\n",
              "        text-align: right;\n",
              "    }\n",
              "</style>\n",
              "<table border=\"1\" class=\"dataframe\">\n",
              "  <thead>\n",
              "    <tr style=\"text-align: right;\">\n",
              "      <th></th>\n",
              "      <th>_index</th>\n",
              "      <th>_type</th>\n",
              "      <th>_id</th>\n",
              "      <th>_score</th>\n",
              "      <th>_source.tags</th>\n",
              "      <th>_source.zip_code</th>\n",
              "      <th>_source.complaint_id</th>\n",
              "      <th>_source.issue</th>\n",
              "      <th>_source.date_received</th>\n",
              "      <th>_source.state</th>\n",
              "      <th>_source.consumer_disputed</th>\n",
              "      <th>_source.product</th>\n",
              "      <th>_source.company_response</th>\n",
              "      <th>_source.company</th>\n",
              "      <th>_source.submitted_via</th>\n",
              "      <th>_source.date_sent_to_company</th>\n",
              "      <th>_source.company_public_response</th>\n",
              "      <th>_source.sub_product</th>\n",
              "      <th>_source.timely</th>\n",
              "      <th>_source.complaint_what_happened</th>\n",
              "      <th>_source.sub_issue</th>\n",
              "      <th>_source.consumer_consent_provided</th>\n",
              "    </tr>\n",
              "  </thead>\n",
              "  <tbody>\n",
              "    <tr>\n",
              "      <th>0</th>\n",
              "      <td>complaint-public-v2</td>\n",
              "      <td>complaint</td>\n",
              "      <td>3211475</td>\n",
              "      <td>0.0</td>\n",
              "      <td>None</td>\n",
              "      <td>90301</td>\n",
              "      <td>3211475</td>\n",
              "      <td>Attempts to collect debt not owed</td>\n",
              "      <td>2019-04-13T12:00:00-05:00</td>\n",
              "      <td>CA</td>\n",
              "      <td>N/A</td>\n",
              "      <td>Debt collection</td>\n",
              "      <td>Closed with explanation</td>\n",
              "      <td>JPMORGAN CHASE &amp; CO.</td>\n",
              "      <td>Web</td>\n",
              "      <td>2019-04-13T12:00:00-05:00</td>\n",
              "      <td>None</td>\n",
              "      <td>Credit card debt</td>\n",
              "      <td>Yes</td>\n",
              "      <td></td>\n",
              "      <td>Debt is not yours</td>\n",
              "      <td>Consent not provided</td>\n",
              "    </tr>\n",
              "    <tr>\n",
              "      <th>1</th>\n",
              "      <td>complaint-public-v2</td>\n",
              "      <td>complaint</td>\n",
              "      <td>3229299</td>\n",
              "      <td>0.0</td>\n",
              "      <td>Servicemember</td>\n",
              "      <td>319XX</td>\n",
              "      <td>3229299</td>\n",
              "      <td>Written notification about debt</td>\n",
              "      <td>2019-05-01T12:00:00-05:00</td>\n",
              "      <td>GA</td>\n",
              "      <td>N/A</td>\n",
              "      <td>Debt collection</td>\n",
              "      <td>Closed with explanation</td>\n",
              "      <td>JPMORGAN CHASE &amp; CO.</td>\n",
              "      <td>Web</td>\n",
              "      <td>2019-05-01T12:00:00-05:00</td>\n",
              "      <td>None</td>\n",
              "      <td>Credit card debt</td>\n",
              "      <td>Yes</td>\n",
              "      <td>Good morning my name is XXXX XXXX and I apprec...</td>\n",
              "      <td>Didn't receive enough information to verify debt</td>\n",
              "      <td>Consent provided</td>\n",
              "    </tr>\n",
              "    <tr>\n",
              "      <th>2</th>\n",
              "      <td>complaint-public-v2</td>\n",
              "      <td>complaint</td>\n",
              "      <td>3199379</td>\n",
              "      <td>0.0</td>\n",
              "      <td>None</td>\n",
              "      <td>77069</td>\n",
              "      <td>3199379</td>\n",
              "      <td>Other features, terms, or problems</td>\n",
              "      <td>2019-04-02T12:00:00-05:00</td>\n",
              "      <td>TX</td>\n",
              "      <td>N/A</td>\n",
              "      <td>Credit card or prepaid card</td>\n",
              "      <td>Closed with explanation</td>\n",
              "      <td>JPMORGAN CHASE &amp; CO.</td>\n",
              "      <td>Web</td>\n",
              "      <td>2019-04-02T12:00:00-05:00</td>\n",
              "      <td>None</td>\n",
              "      <td>General-purpose credit card or charge card</td>\n",
              "      <td>Yes</td>\n",
              "      <td>I upgraded my XXXX XXXX card in XX/XX/2018 and...</td>\n",
              "      <td>Problem with rewards from credit card</td>\n",
              "      <td>Consent provided</td>\n",
              "    </tr>\n",
              "    <tr>\n",
              "      <th>3</th>\n",
              "      <td>complaint-public-v2</td>\n",
              "      <td>complaint</td>\n",
              "      <td>2673060</td>\n",
              "      <td>0.0</td>\n",
              "      <td>None</td>\n",
              "      <td>48066</td>\n",
              "      <td>2673060</td>\n",
              "      <td>Trouble during payment process</td>\n",
              "      <td>2017-09-13T12:00:00-05:00</td>\n",
              "      <td>MI</td>\n",
              "      <td>N/A</td>\n",
              "      <td>Mortgage</td>\n",
              "      <td>Closed with explanation</td>\n",
              "      <td>JPMORGAN CHASE &amp; CO.</td>\n",
              "      <td>Web</td>\n",
              "      <td>2017-09-14T12:00:00-05:00</td>\n",
              "      <td>None</td>\n",
              "      <td>Conventional home mortgage</td>\n",
              "      <td>Yes</td>\n",
              "      <td></td>\n",
              "      <td>None</td>\n",
              "      <td>Consent not provided</td>\n",
              "    </tr>\n",
              "    <tr>\n",
              "      <th>4</th>\n",
              "      <td>complaint-public-v2</td>\n",
              "      <td>complaint</td>\n",
              "      <td>3203545</td>\n",
              "      <td>0.0</td>\n",
              "      <td>None</td>\n",
              "      <td>10473</td>\n",
              "      <td>3203545</td>\n",
              "      <td>Fees or interest</td>\n",
              "      <td>2019-04-05T12:00:00-05:00</td>\n",
              "      <td>NY</td>\n",
              "      <td>N/A</td>\n",
              "      <td>Credit card or prepaid card</td>\n",
              "      <td>Closed with explanation</td>\n",
              "      <td>JPMORGAN CHASE &amp; CO.</td>\n",
              "      <td>Referral</td>\n",
              "      <td>2019-04-05T12:00:00-05:00</td>\n",
              "      <td>None</td>\n",
              "      <td>General-purpose credit card or charge card</td>\n",
              "      <td>Yes</td>\n",
              "      <td></td>\n",
              "      <td>Charged too much interest</td>\n",
              "      <td>N/A</td>\n",
              "    </tr>\n",
              "  </tbody>\n",
              "</table>\n",
              "</div>\n",
              "      <button class=\"colab-df-convert\" onclick=\"convertToInteractive('df-6cf78a23-8a6d-433a-8536-a94649054251')\"\n",
              "              title=\"Convert this dataframe to an interactive table.\"\n",
              "              style=\"display:none;\">\n",
              "        \n",
              "  <svg xmlns=\"http://www.w3.org/2000/svg\" height=\"24px\"viewBox=\"0 0 24 24\"\n",
              "       width=\"24px\">\n",
              "    <path d=\"M0 0h24v24H0V0z\" fill=\"none\"/>\n",
              "    <path d=\"M18.56 5.44l.94 2.06.94-2.06 2.06-.94-2.06-.94-.94-2.06-.94 2.06-2.06.94zm-11 1L8.5 8.5l.94-2.06 2.06-.94-2.06-.94L8.5 2.5l-.94 2.06-2.06.94zm10 10l.94 2.06.94-2.06 2.06-.94-2.06-.94-.94-2.06-.94 2.06-2.06.94z\"/><path d=\"M17.41 7.96l-1.37-1.37c-.4-.4-.92-.59-1.43-.59-.52 0-1.04.2-1.43.59L10.3 9.45l-7.72 7.72c-.78.78-.78 2.05 0 2.83L4 21.41c.39.39.9.59 1.41.59.51 0 1.02-.2 1.41-.59l7.78-7.78 2.81-2.81c.8-.78.8-2.07 0-2.86zM5.41 20L4 18.59l7.72-7.72 1.47 1.35L5.41 20z\"/>\n",
              "  </svg>\n",
              "      </button>\n",
              "      \n",
              "  <style>\n",
              "    .colab-df-container {\n",
              "      display:flex;\n",
              "      flex-wrap:wrap;\n",
              "      gap: 12px;\n",
              "    }\n",
              "\n",
              "    .colab-df-convert {\n",
              "      background-color: #E8F0FE;\n",
              "      border: none;\n",
              "      border-radius: 50%;\n",
              "      cursor: pointer;\n",
              "      display: none;\n",
              "      fill: #1967D2;\n",
              "      height: 32px;\n",
              "      padding: 0 0 0 0;\n",
              "      width: 32px;\n",
              "    }\n",
              "\n",
              "    .colab-df-convert:hover {\n",
              "      background-color: #E2EBFA;\n",
              "      box-shadow: 0px 1px 2px rgba(60, 64, 67, 0.3), 0px 1px 3px 1px rgba(60, 64, 67, 0.15);\n",
              "      fill: #174EA6;\n",
              "    }\n",
              "\n",
              "    [theme=dark] .colab-df-convert {\n",
              "      background-color: #3B4455;\n",
              "      fill: #D2E3FC;\n",
              "    }\n",
              "\n",
              "    [theme=dark] .colab-df-convert:hover {\n",
              "      background-color: #434B5C;\n",
              "      box-shadow: 0px 1px 3px 1px rgba(0, 0, 0, 0.15);\n",
              "      filter: drop-shadow(0px 1px 2px rgba(0, 0, 0, 0.3));\n",
              "      fill: #FFFFFF;\n",
              "    }\n",
              "  </style>\n",
              "\n",
              "      <script>\n",
              "        const buttonEl =\n",
              "          document.querySelector('#df-6cf78a23-8a6d-433a-8536-a94649054251 button.colab-df-convert');\n",
              "        buttonEl.style.display =\n",
              "          google.colab.kernel.accessAllowed ? 'block' : 'none';\n",
              "\n",
              "        async function convertToInteractive(key) {\n",
              "          const element = document.querySelector('#df-6cf78a23-8a6d-433a-8536-a94649054251');\n",
              "          const dataTable =\n",
              "            await google.colab.kernel.invokeFunction('convertToInteractive',\n",
              "                                                     [key], {});\n",
              "          if (!dataTable) return;\n",
              "\n",
              "          const docLinkHtml = 'Like what you see? Visit the ' +\n",
              "            '<a target=\"_blank\" href=https://colab.research.google.com/notebooks/data_table.ipynb>data table notebook</a>'\n",
              "            + ' to learn more about interactive tables.';\n",
              "          element.innerHTML = '';\n",
              "          dataTable['output_type'] = 'display_data';\n",
              "          await google.colab.output.renderOutput(dataTable, element);\n",
              "          const docLink = document.createElement('div');\n",
              "          docLink.innerHTML = docLinkHtml;\n",
              "          element.appendChild(docLink);\n",
              "        }\n",
              "      </script>\n",
              "    </div>\n",
              "  </div>\n",
              "  "
            ]
          },
          "metadata": {},
          "execution_count": 7
        }
      ]
    },
    {
      "cell_type": "code",
      "metadata": {
        "id": "Dwcty-wmJrFw",
        "colab": {
          "base_uri": "https://localhost:8080/"
        },
        "outputId": "2e3885fd-636b-4b0e-b148-7d4d0ef48efe"
      },
      "source": [
        "#print the column names\n",
        "df.columns"
      ],
      "execution_count": 8,
      "outputs": [
        {
          "output_type": "execute_result",
          "data": {
            "text/plain": [
              "Index(['_index', '_type', '_id', '_score', '_source.tags', '_source.zip_code',\n",
              "       '_source.complaint_id', '_source.issue', '_source.date_received',\n",
              "       '_source.state', '_source.consumer_disputed', '_source.product',\n",
              "       '_source.company_response', '_source.company', '_source.submitted_via',\n",
              "       '_source.date_sent_to_company', '_source.company_public_response',\n",
              "       '_source.sub_product', '_source.timely',\n",
              "       '_source.complaint_what_happened', '_source.sub_issue',\n",
              "       '_source.consumer_consent_provided'],\n",
              "      dtype='object')"
            ]
          },
          "metadata": {},
          "execution_count": 8
        }
      ]
    },
    {
      "cell_type": "code",
      "metadata": {
        "id": "FYCtKXD1JrFw",
        "colab": {
          "base_uri": "https://localhost:8080/",
          "height": 315
        },
        "outputId": "7460d204-60e8-43f4-919b-6e0415ca91d6"
      },
      "source": [
        "#Assign new column names\n",
        "# Define the new column names\n",
        "new_columns = {\n",
        "    '_index': 'index',\n",
        "    '_type': 'type',\n",
        "    '_id': 'id',\n",
        "    '_score': 'score',\n",
        "    '_source.tags': 'tags',\n",
        "    '_source.zip_code': 'zip_code',\n",
        "    '_source.complaint_id': 'complaint_id',\n",
        "    '_source.issue': 'issue',\n",
        "    '_source.date_received': 'date_received',\n",
        "    '_source.state': 'state',\n",
        "    '_source.consumer_disputed': 'consumer_disputed',\n",
        "    '_source.product': 'product',\n",
        "    '_source.company_response': 'company_response',\n",
        "    '_source.company': 'company',\n",
        "    '_source.submitted_via': 'submitted_via',\n",
        "    '_source.date_sent_to_company': 'date_sent_to_company',\n",
        "    '_source.company_public_response': 'company_public_response',\n",
        "    '_source.sub_product': 'sub_product',\n",
        "    '_source.timely': 'timely',\n",
        "    '_source.complaint_what_happened': 'complaint_what_happened',\n",
        "    '_source.sub_issue': 'sub_issue',\n",
        "    '_source.consumer_consent_provided': 'consumer_consent_provided'\n",
        "}\n",
        "\n",
        "# Rename the columns\n",
        "df.rename(columns=new_columns, inplace=True)\n",
        "\n",
        "# Print the updated DataFrame\n",
        "df.head(2)"
      ],
      "execution_count": 9,
      "outputs": [
        {
          "output_type": "execute_result",
          "data": {
            "text/plain": [
              "                 index       type       id  score           tags zip_code  \\\n",
              "0  complaint-public-v2  complaint  3211475    0.0           None    90301   \n",
              "1  complaint-public-v2  complaint  3229299    0.0  Servicemember    319XX   \n",
              "\n",
              "  complaint_id                              issue              date_received  \\\n",
              "0      3211475  Attempts to collect debt not owed  2019-04-13T12:00:00-05:00   \n",
              "1      3229299    Written notification about debt  2019-05-01T12:00:00-05:00   \n",
              "\n",
              "  state consumer_disputed          product         company_response  \\\n",
              "0    CA               N/A  Debt collection  Closed with explanation   \n",
              "1    GA               N/A  Debt collection  Closed with explanation   \n",
              "\n",
              "                company submitted_via       date_sent_to_company  \\\n",
              "0  JPMORGAN CHASE & CO.           Web  2019-04-13T12:00:00-05:00   \n",
              "1  JPMORGAN CHASE & CO.           Web  2019-05-01T12:00:00-05:00   \n",
              "\n",
              "  company_public_response       sub_product timely  \\\n",
              "0                    None  Credit card debt    Yes   \n",
              "1                    None  Credit card debt    Yes   \n",
              "\n",
              "                             complaint_what_happened  \\\n",
              "0                                                      \n",
              "1  Good morning my name is XXXX XXXX and I apprec...   \n",
              "\n",
              "                                          sub_issue consumer_consent_provided  \n",
              "0                                 Debt is not yours      Consent not provided  \n",
              "1  Didn't receive enough information to verify debt          Consent provided  "
            ],
            "text/html": [
              "\n",
              "  <div id=\"df-91f82e89-87eb-4244-88f1-1d773d07488e\">\n",
              "    <div class=\"colab-df-container\">\n",
              "      <div>\n",
              "<style scoped>\n",
              "    .dataframe tbody tr th:only-of-type {\n",
              "        vertical-align: middle;\n",
              "    }\n",
              "\n",
              "    .dataframe tbody tr th {\n",
              "        vertical-align: top;\n",
              "    }\n",
              "\n",
              "    .dataframe thead th {\n",
              "        text-align: right;\n",
              "    }\n",
              "</style>\n",
              "<table border=\"1\" class=\"dataframe\">\n",
              "  <thead>\n",
              "    <tr style=\"text-align: right;\">\n",
              "      <th></th>\n",
              "      <th>index</th>\n",
              "      <th>type</th>\n",
              "      <th>id</th>\n",
              "      <th>score</th>\n",
              "      <th>tags</th>\n",
              "      <th>zip_code</th>\n",
              "      <th>complaint_id</th>\n",
              "      <th>issue</th>\n",
              "      <th>date_received</th>\n",
              "      <th>state</th>\n",
              "      <th>consumer_disputed</th>\n",
              "      <th>product</th>\n",
              "      <th>company_response</th>\n",
              "      <th>company</th>\n",
              "      <th>submitted_via</th>\n",
              "      <th>date_sent_to_company</th>\n",
              "      <th>company_public_response</th>\n",
              "      <th>sub_product</th>\n",
              "      <th>timely</th>\n",
              "      <th>complaint_what_happened</th>\n",
              "      <th>sub_issue</th>\n",
              "      <th>consumer_consent_provided</th>\n",
              "    </tr>\n",
              "  </thead>\n",
              "  <tbody>\n",
              "    <tr>\n",
              "      <th>0</th>\n",
              "      <td>complaint-public-v2</td>\n",
              "      <td>complaint</td>\n",
              "      <td>3211475</td>\n",
              "      <td>0.0</td>\n",
              "      <td>None</td>\n",
              "      <td>90301</td>\n",
              "      <td>3211475</td>\n",
              "      <td>Attempts to collect debt not owed</td>\n",
              "      <td>2019-04-13T12:00:00-05:00</td>\n",
              "      <td>CA</td>\n",
              "      <td>N/A</td>\n",
              "      <td>Debt collection</td>\n",
              "      <td>Closed with explanation</td>\n",
              "      <td>JPMORGAN CHASE &amp; CO.</td>\n",
              "      <td>Web</td>\n",
              "      <td>2019-04-13T12:00:00-05:00</td>\n",
              "      <td>None</td>\n",
              "      <td>Credit card debt</td>\n",
              "      <td>Yes</td>\n",
              "      <td></td>\n",
              "      <td>Debt is not yours</td>\n",
              "      <td>Consent not provided</td>\n",
              "    </tr>\n",
              "    <tr>\n",
              "      <th>1</th>\n",
              "      <td>complaint-public-v2</td>\n",
              "      <td>complaint</td>\n",
              "      <td>3229299</td>\n",
              "      <td>0.0</td>\n",
              "      <td>Servicemember</td>\n",
              "      <td>319XX</td>\n",
              "      <td>3229299</td>\n",
              "      <td>Written notification about debt</td>\n",
              "      <td>2019-05-01T12:00:00-05:00</td>\n",
              "      <td>GA</td>\n",
              "      <td>N/A</td>\n",
              "      <td>Debt collection</td>\n",
              "      <td>Closed with explanation</td>\n",
              "      <td>JPMORGAN CHASE &amp; CO.</td>\n",
              "      <td>Web</td>\n",
              "      <td>2019-05-01T12:00:00-05:00</td>\n",
              "      <td>None</td>\n",
              "      <td>Credit card debt</td>\n",
              "      <td>Yes</td>\n",
              "      <td>Good morning my name is XXXX XXXX and I apprec...</td>\n",
              "      <td>Didn't receive enough information to verify debt</td>\n",
              "      <td>Consent provided</td>\n",
              "    </tr>\n",
              "  </tbody>\n",
              "</table>\n",
              "</div>\n",
              "      <button class=\"colab-df-convert\" onclick=\"convertToInteractive('df-91f82e89-87eb-4244-88f1-1d773d07488e')\"\n",
              "              title=\"Convert this dataframe to an interactive table.\"\n",
              "              style=\"display:none;\">\n",
              "        \n",
              "  <svg xmlns=\"http://www.w3.org/2000/svg\" height=\"24px\"viewBox=\"0 0 24 24\"\n",
              "       width=\"24px\">\n",
              "    <path d=\"M0 0h24v24H0V0z\" fill=\"none\"/>\n",
              "    <path d=\"M18.56 5.44l.94 2.06.94-2.06 2.06-.94-2.06-.94-.94-2.06-.94 2.06-2.06.94zm-11 1L8.5 8.5l.94-2.06 2.06-.94-2.06-.94L8.5 2.5l-.94 2.06-2.06.94zm10 10l.94 2.06.94-2.06 2.06-.94-2.06-.94-.94-2.06-.94 2.06-2.06.94z\"/><path d=\"M17.41 7.96l-1.37-1.37c-.4-.4-.92-.59-1.43-.59-.52 0-1.04.2-1.43.59L10.3 9.45l-7.72 7.72c-.78.78-.78 2.05 0 2.83L4 21.41c.39.39.9.59 1.41.59.51 0 1.02-.2 1.41-.59l7.78-7.78 2.81-2.81c.8-.78.8-2.07 0-2.86zM5.41 20L4 18.59l7.72-7.72 1.47 1.35L5.41 20z\"/>\n",
              "  </svg>\n",
              "      </button>\n",
              "      \n",
              "  <style>\n",
              "    .colab-df-container {\n",
              "      display:flex;\n",
              "      flex-wrap:wrap;\n",
              "      gap: 12px;\n",
              "    }\n",
              "\n",
              "    .colab-df-convert {\n",
              "      background-color: #E8F0FE;\n",
              "      border: none;\n",
              "      border-radius: 50%;\n",
              "      cursor: pointer;\n",
              "      display: none;\n",
              "      fill: #1967D2;\n",
              "      height: 32px;\n",
              "      padding: 0 0 0 0;\n",
              "      width: 32px;\n",
              "    }\n",
              "\n",
              "    .colab-df-convert:hover {\n",
              "      background-color: #E2EBFA;\n",
              "      box-shadow: 0px 1px 2px rgba(60, 64, 67, 0.3), 0px 1px 3px 1px rgba(60, 64, 67, 0.15);\n",
              "      fill: #174EA6;\n",
              "    }\n",
              "\n",
              "    [theme=dark] .colab-df-convert {\n",
              "      background-color: #3B4455;\n",
              "      fill: #D2E3FC;\n",
              "    }\n",
              "\n",
              "    [theme=dark] .colab-df-convert:hover {\n",
              "      background-color: #434B5C;\n",
              "      box-shadow: 0px 1px 3px 1px rgba(0, 0, 0, 0.15);\n",
              "      filter: drop-shadow(0px 1px 2px rgba(0, 0, 0, 0.3));\n",
              "      fill: #FFFFFF;\n",
              "    }\n",
              "  </style>\n",
              "\n",
              "      <script>\n",
              "        const buttonEl =\n",
              "          document.querySelector('#df-91f82e89-87eb-4244-88f1-1d773d07488e button.colab-df-convert');\n",
              "        buttonEl.style.display =\n",
              "          google.colab.kernel.accessAllowed ? 'block' : 'none';\n",
              "\n",
              "        async function convertToInteractive(key) {\n",
              "          const element = document.querySelector('#df-91f82e89-87eb-4244-88f1-1d773d07488e');\n",
              "          const dataTable =\n",
              "            await google.colab.kernel.invokeFunction('convertToInteractive',\n",
              "                                                     [key], {});\n",
              "          if (!dataTable) return;\n",
              "\n",
              "          const docLinkHtml = 'Like what you see? Visit the ' +\n",
              "            '<a target=\"_blank\" href=https://colab.research.google.com/notebooks/data_table.ipynb>data table notebook</a>'\n",
              "            + ' to learn more about interactive tables.';\n",
              "          element.innerHTML = '';\n",
              "          dataTable['output_type'] = 'display_data';\n",
              "          await google.colab.output.renderOutput(dataTable, element);\n",
              "          const docLink = document.createElement('div');\n",
              "          docLink.innerHTML = docLinkHtml;\n",
              "          element.appendChild(docLink);\n",
              "        }\n",
              "      </script>\n",
              "    </div>\n",
              "  </div>\n",
              "  "
            ]
          },
          "metadata": {},
          "execution_count": 9
        }
      ]
    },
    {
      "cell_type": "code",
      "metadata": {
        "id": "grQUPFL5JrFx"
      },
      "source": [
        "#Assign nan in place of blanks in the complaints column\n",
        "df.replace('', np.nan, inplace=True)"
      ],
      "execution_count": 10,
      "outputs": []
    },
    {
      "cell_type": "code",
      "metadata": {
        "id": "Jfxd8VSmJrFy",
        "colab": {
          "base_uri": "https://localhost:8080/"
        },
        "outputId": "5da36a8d-3e6d-48f5-b525-ae519abcdef5"
      },
      "source": [
        "#Remove all rows where complaints column is nan\n",
        "df.complaint_what_happened.isna().sum()"
      ],
      "execution_count": 11,
      "outputs": [
        {
          "output_type": "execute_result",
          "data": {
            "text/plain": [
              "57241"
            ]
          },
          "metadata": {},
          "execution_count": 11
        }
      ]
    },
    {
      "cell_type": "code",
      "source": [
        "# Remove rows with NaN values in 'complaints' column\n",
        "df = df.dropna(subset=['complaint_what_happened'])\n",
        "df.isna().sum()"
      ],
      "metadata": {
        "colab": {
          "base_uri": "https://localhost:8080/"
        },
        "id": "XfSw6q6BKSBg",
        "outputId": "5f96acf3-577c-4071-e179-56ef793aed27"
      },
      "execution_count": 12,
      "outputs": [
        {
          "output_type": "execute_result",
          "data": {
            "text/plain": [
              "index                            0\n",
              "type                             0\n",
              "id                               0\n",
              "score                            0\n",
              "tags                         17256\n",
              "zip_code                      4645\n",
              "complaint_id                     0\n",
              "issue                            0\n",
              "date_received                    0\n",
              "state                          143\n",
              "consumer_disputed                0\n",
              "product                          0\n",
              "company_response                 0\n",
              "company                          0\n",
              "submitted_via                    0\n",
              "date_sent_to_company             0\n",
              "company_public_response      21070\n",
              "sub_product                   2109\n",
              "timely                           0\n",
              "complaint_what_happened          0\n",
              "sub_issue                     8176\n",
              "consumer_consent_provided        0\n",
              "dtype: int64"
            ]
          },
          "metadata": {},
          "execution_count": 12
        }
      ]
    },
    {
      "cell_type": "markdown",
      "metadata": {
        "id": "L944HZpsJrFy"
      },
      "source": [
        "## Prepare the text for topic modeling\n",
        "\n",
        "Once you have removed all the blank complaints, you need to:\n",
        "\n",
        "* Make the text lowercase\n",
        "* Remove text in square brackets\n",
        "* Remove punctuation\n",
        "* Remove words containing numbers\n",
        "\n",
        "\n",
        "Once you have done these cleaning operations you need to perform the following:\n",
        "* Lemmatize the texts\n",
        "* Extract the POS tags of the lemmatized text and remove all the words which have tags other than NN[tag == \"NN\"].\n"
      ]
    },
    {
      "cell_type": "code",
      "source": [
        "# Function to clean the text\n",
        "def clean_text(text):\n",
        "    # Make text lowercase\n",
        "    text = text.lower()\n",
        "\n",
        "    # Remove text in square brackets\n",
        "    text = re.sub(r'\\[.*?\\]', '', text)\n",
        "\n",
        "    # Remove punctuation\n",
        "    text = text.translate(str.maketrans('', '', string.punctuation))\n",
        "\n",
        "    # Remove words containing numbers\n",
        "    text = ' '.join(word for word in text.split() if not any(char.isdigit() for char in word))\n",
        "\n",
        "    # Remove leading and trailing spaces\n",
        "    text = text.strip()\n",
        "\n",
        "    return text\n",
        "\n",
        "df_clean = df.copy()\n",
        "df_clean['complaint_what_happened'] = df_clean['complaint_what_happened'].apply(clean_text)"
      ],
      "metadata": {
        "id": "wTwAR-wDMov6"
      },
      "execution_count": 13,
      "outputs": []
    },
    {
      "cell_type": "code",
      "source": [
        "pd.set_option('display.max_colwidth', None)\n",
        "print(df.complaint_what_happened.head(5))\n",
        "print()\n",
        "print(df_clean.complaint_what_happened.head(5))"
      ],
      "metadata": {
        "colab": {
          "base_uri": "https://localhost:8080/"
        },
        "id": "Ihmek_zG9imF",
        "outputId": "cd77a381-a354-44ea-b3fb-6886b7874893"
      },
      "execution_count": 14,
      "outputs": [
        {
          "output_type": "stream",
          "name": "stdout",
          "text": [
            "1                                                                                                                                                                                                                                                                                                                                                                                                                                                                                                                                                                                                                                                                                                                                                                                                                                                                                                                                                                                                                                                         Good morning my name is XXXX XXXX and I appreciate it if you could help me put a stop to Chase Bank cardmember services. \\nIn 2018 I wrote to Chase asking for debt verification and what they sent me a statement which is not acceptable. I am asking the bank to validate the debt. Instead I been receiving mail every month from them attempting to collect a debt. \\nI have a right to know this information as a consumer. \\n\\nChase account # XXXX XXXX XXXX XXXX Thanks in advance for your help.\n",
            "2                                                                                                                                                                                                                                                                                                                                                                                                                                                                                                                                                                                                                                                                                                                                                                                                                                                                                                                                                                                                                                                                                                                                                                                                I upgraded my XXXX XXXX card in XX/XX/2018 and was told by the agent who did the upgrade my anniversary date would not change. It turned the agent was giving me the wrong information in order to upgrade the account. XXXX   changed my anniversary date from XX/XX/XXXX to XX/XX/XXXX without my consent! XXXX has the recording of the agent who was misled me.\n",
            "10                                                                                                                                                                                                                                                                                                                                                                                                                                                                                                                                                                                                                                                                                                                                                                                                                                                                                                                                                                                                                                                                                                                                                                                                                                                                                                                                  Chase Card was reported on XX/XX/2019. However, fraudulent application have been submitted my identity without my consent to fraudulently obtain services. Do not extend credit without verifying the identity of the applicant.\n",
            "11    On XX/XX/2018, while trying to book a XXXX  XXXX  ticket, I came across an offer for {$300.00} to be applied towards the ticket if I applied for a rewards card. I put in my information for the offer and within less than a minute, was notified via the screen that a decision could not be made. I immediately contacted XXXX and was referred to Chase Bank. I then immediately contacted Chase bank within no more than 10minutes of getting the notification on the screen and I was told by the Chase representative I spoke with that my application was denied but she could not state why. I asked for more information about the XXXX  offer and she explained that even if I had been approved, the credit offer only gets applied after the first account statement and could not be used to purchase the ticket. I then explicitly told her I was glad I got denied and I was ABSOLUTELY no longer interested in the account. I asked that the application be withdrawn and the representative obliged. This all happened no later than 10mins after putting in the application on XX/XX/2018. Notwithstanding my explicit request not to proceed with the application and contrary to what I was told by the Chase representative, Chase did in fact go ahead to open a credit account in my name on XX/XX/2018. This is now being reported in my Credit Report and Chase has refused to correct this information on my credit report even though they went ahead to process an application which I did not consent to and out of their error.\n",
            "14                                                                                                                                                                                                                                                                                                                                                                                                                                                                                                                                                                                                                                                                                                                                                                                                                                                                                                                                                                                                                                                                     my grand son give me check for {$1600.00} i deposit it into my chase account after fund clear my chase bank closed my account never paid me my money they said they need to speek with my grand son check was clear money was taking by my chase bank refuse to pay me my money my grand son called chase 2 times they told him i should call not him to verify the check owner he is out the country most the time  date happen XX/XX/2018 check number XXXX claim number is XXXX with chase\n",
            "Name: complaint_what_happened, dtype: object\n",
            "\n",
            "1                                                                                                                                                                                                                                                                                                                                                                                                                                                                                                                                                                                                                                                                                                                                                                                                                                                                                                                                                                                                good morning my name is xxxx xxxx and i appreciate it if you could help me put a stop to chase bank cardmember services in i wrote to chase asking for debt verification and what they sent me a statement which is not acceptable i am asking the bank to validate the debt instead i been receiving mail every month from them attempting to collect a debt i have a right to know this information as a consumer chase account xxxx xxxx xxxx xxxx thanks in advance for your help\n",
            "2                                                                                                                                                                                                                                                                                                                                                                                                                                                                                                                                                                                                                                                                                                                                                                                                                                                                                                                                                                                                                                                                                                                                       i upgraded my xxxx xxxx card in and was told by the agent who did the upgrade my anniversary date would not change it turned the agent was giving me the wrong information in order to upgrade the account xxxx changed my anniversary date from xxxxxxxx to xxxxxxxx without my consent xxxx has the recording of the agent who was misled me\n",
            "10                                                                                                                                                                                                                                                                                                                                                                                                                                                                                                                                                                                                                                                                                                                                                                                                                                                                                                                                                                                                                                                                                                                                                                                                                                                                   chase card was reported on however fraudulent application have been submitted my identity without my consent to fraudulently obtain services do not extend credit without verifying the identity of the applicant\n",
            "11    on while trying to book a xxxx xxxx ticket i came across an offer for to be applied towards the ticket if i applied for a rewards card i put in my information for the offer and within less than a minute was notified via the screen that a decision could not be made i immediately contacted xxxx and was referred to chase bank i then immediately contacted chase bank within no more than of getting the notification on the screen and i was told by the chase representative i spoke with that my application was denied but she could not state why i asked for more information about the xxxx offer and she explained that even if i had been approved the credit offer only gets applied after the first account statement and could not be used to purchase the ticket i then explicitly told her i was glad i got denied and i was absolutely no longer interested in the account i asked that the application be withdrawn and the representative obliged this all happened no later than after putting in the application on notwithstanding my explicit request not to proceed with the application and contrary to what i was told by the chase representative chase did in fact go ahead to open a credit account in my name on this is now being reported in my credit report and chase has refused to correct this information on my credit report even though they went ahead to process an application which i did not consent to and out of their error\n",
            "14                                                                                                                                                                                                                                                                                                                                                                                                                                                                                                                                                                                                                                                                                                                                                                                                                                                                                                                                                                                                                my grand son give me check for i deposit it into my chase account after fund clear my chase bank closed my account never paid me my money they said they need to speek with my grand son check was clear money was taking by my chase bank refuse to pay me my money my grand son called chase times they told him i should call not him to verify the check owner he is out the country most the time date happen check number xxxx claim number is xxxx with chase\n",
            "Name: complaint_what_happened, dtype: object\n"
          ]
        }
      ]
    },
    {
      "cell_type": "code",
      "metadata": {
        "id": "zgOu8t8HJrFz"
      },
      "source": [
        "#Write your function to Lemmatize the texts\n",
        "# Create an instance of the WordNetLemmatizer\n",
        "lemmatizer = WordNetLemmatizer()\n",
        "\n",
        "# Function to perform lemmatization\n",
        "def lemmatize_text(text):\n",
        "    lemmatized_words = [lemmatizer.lemmatize(word) for word in text.split()]\n",
        "    return ' '.join(lemmatized_words)\n",
        "\n",
        "# Apply lemmatization to the 'Text' column\n",
        "df_clean['lemmatize_text'] = df_clean['complaint_what_happened'].apply(lemmatize_text)"
      ],
      "execution_count": 15,
      "outputs": []
    },
    {
      "cell_type": "code",
      "metadata": {
        "id": "uXnN7aa_JrF0",
        "colab": {
          "base_uri": "https://localhost:8080/",
          "height": 295
        },
        "outputId": "ccb5b178-f307-4a8d-c08a-e6d083dd1d74"
      },
      "source": [
        "#Create a dataframe('df_clean') that will have only the complaints and the lemmatized complaints\n",
        "df_clean = df_clean[['complaint_what_happened','lemmatize_text']]\n",
        "df_clean.head(2)"
      ],
      "execution_count": 16,
      "outputs": [
        {
          "output_type": "execute_result",
          "data": {
            "text/plain": [
              "                                                                                                                                                                                                                                                                                                                                                                                                                                                                 complaint_what_happened  \\\n",
              "1  good morning my name is xxxx xxxx and i appreciate it if you could help me put a stop to chase bank cardmember services in i wrote to chase asking for debt verification and what they sent me a statement which is not acceptable i am asking the bank to validate the debt instead i been receiving mail every month from them attempting to collect a debt i have a right to know this information as a consumer chase account xxxx xxxx xxxx xxxx thanks in advance for your help   \n",
              "2                                                                                                                                         i upgraded my xxxx xxxx card in and was told by the agent who did the upgrade my anniversary date would not change it turned the agent was giving me the wrong information in order to upgrade the account xxxx changed my anniversary date from xxxxxxxx to xxxxxxxx without my consent xxxx has the recording of the agent who was misled me   \n",
              "\n",
              "                                                                                                                                                                                                                                                                                                                                                                                                                                                                        lemmatize_text  \n",
              "1  good morning my name is xxxx xxxx and i appreciate it if you could help me put a stop to chase bank cardmember service in i wrote to chase asking for debt verification and what they sent me a statement which is not acceptable i am asking the bank to validate the debt instead i been receiving mail every month from them attempting to collect a debt i have a right to know this information a a consumer chase account xxxx xxxx xxxx xxxx thanks in advance for your help  \n",
              "2                                                                                                                                           i upgraded my xxxx xxxx card in and wa told by the agent who did the upgrade my anniversary date would not change it turned the agent wa giving me the wrong information in order to upgrade the account xxxx changed my anniversary date from xxxxxxxx to xxxxxxxx without my consent xxxx ha the recording of the agent who wa misled me  "
            ],
            "text/html": [
              "\n",
              "  <div id=\"df-44e944c5-b662-4861-9eca-1bca722794a4\">\n",
              "    <div class=\"colab-df-container\">\n",
              "      <div>\n",
              "<style scoped>\n",
              "    .dataframe tbody tr th:only-of-type {\n",
              "        vertical-align: middle;\n",
              "    }\n",
              "\n",
              "    .dataframe tbody tr th {\n",
              "        vertical-align: top;\n",
              "    }\n",
              "\n",
              "    .dataframe thead th {\n",
              "        text-align: right;\n",
              "    }\n",
              "</style>\n",
              "<table border=\"1\" class=\"dataframe\">\n",
              "  <thead>\n",
              "    <tr style=\"text-align: right;\">\n",
              "      <th></th>\n",
              "      <th>complaint_what_happened</th>\n",
              "      <th>lemmatize_text</th>\n",
              "    </tr>\n",
              "  </thead>\n",
              "  <tbody>\n",
              "    <tr>\n",
              "      <th>1</th>\n",
              "      <td>good morning my name is xxxx xxxx and i appreciate it if you could help me put a stop to chase bank cardmember services in i wrote to chase asking for debt verification and what they sent me a statement which is not acceptable i am asking the bank to validate the debt instead i been receiving mail every month from them attempting to collect a debt i have a right to know this information as a consumer chase account xxxx xxxx xxxx xxxx thanks in advance for your help</td>\n",
              "      <td>good morning my name is xxxx xxxx and i appreciate it if you could help me put a stop to chase bank cardmember service in i wrote to chase asking for debt verification and what they sent me a statement which is not acceptable i am asking the bank to validate the debt instead i been receiving mail every month from them attempting to collect a debt i have a right to know this information a a consumer chase account xxxx xxxx xxxx xxxx thanks in advance for your help</td>\n",
              "    </tr>\n",
              "    <tr>\n",
              "      <th>2</th>\n",
              "      <td>i upgraded my xxxx xxxx card in and was told by the agent who did the upgrade my anniversary date would not change it turned the agent was giving me the wrong information in order to upgrade the account xxxx changed my anniversary date from xxxxxxxx to xxxxxxxx without my consent xxxx has the recording of the agent who was misled me</td>\n",
              "      <td>i upgraded my xxxx xxxx card in and wa told by the agent who did the upgrade my anniversary date would not change it turned the agent wa giving me the wrong information in order to upgrade the account xxxx changed my anniversary date from xxxxxxxx to xxxxxxxx without my consent xxxx ha the recording of the agent who wa misled me</td>\n",
              "    </tr>\n",
              "  </tbody>\n",
              "</table>\n",
              "</div>\n",
              "      <button class=\"colab-df-convert\" onclick=\"convertToInteractive('df-44e944c5-b662-4861-9eca-1bca722794a4')\"\n",
              "              title=\"Convert this dataframe to an interactive table.\"\n",
              "              style=\"display:none;\">\n",
              "        \n",
              "  <svg xmlns=\"http://www.w3.org/2000/svg\" height=\"24px\"viewBox=\"0 0 24 24\"\n",
              "       width=\"24px\">\n",
              "    <path d=\"M0 0h24v24H0V0z\" fill=\"none\"/>\n",
              "    <path d=\"M18.56 5.44l.94 2.06.94-2.06 2.06-.94-2.06-.94-.94-2.06-.94 2.06-2.06.94zm-11 1L8.5 8.5l.94-2.06 2.06-.94-2.06-.94L8.5 2.5l-.94 2.06-2.06.94zm10 10l.94 2.06.94-2.06 2.06-.94-2.06-.94-.94-2.06-.94 2.06-2.06.94z\"/><path d=\"M17.41 7.96l-1.37-1.37c-.4-.4-.92-.59-1.43-.59-.52 0-1.04.2-1.43.59L10.3 9.45l-7.72 7.72c-.78.78-.78 2.05 0 2.83L4 21.41c.39.39.9.59 1.41.59.51 0 1.02-.2 1.41-.59l7.78-7.78 2.81-2.81c.8-.78.8-2.07 0-2.86zM5.41 20L4 18.59l7.72-7.72 1.47 1.35L5.41 20z\"/>\n",
              "  </svg>\n",
              "      </button>\n",
              "      \n",
              "  <style>\n",
              "    .colab-df-container {\n",
              "      display:flex;\n",
              "      flex-wrap:wrap;\n",
              "      gap: 12px;\n",
              "    }\n",
              "\n",
              "    .colab-df-convert {\n",
              "      background-color: #E8F0FE;\n",
              "      border: none;\n",
              "      border-radius: 50%;\n",
              "      cursor: pointer;\n",
              "      display: none;\n",
              "      fill: #1967D2;\n",
              "      height: 32px;\n",
              "      padding: 0 0 0 0;\n",
              "      width: 32px;\n",
              "    }\n",
              "\n",
              "    .colab-df-convert:hover {\n",
              "      background-color: #E2EBFA;\n",
              "      box-shadow: 0px 1px 2px rgba(60, 64, 67, 0.3), 0px 1px 3px 1px rgba(60, 64, 67, 0.15);\n",
              "      fill: #174EA6;\n",
              "    }\n",
              "\n",
              "    [theme=dark] .colab-df-convert {\n",
              "      background-color: #3B4455;\n",
              "      fill: #D2E3FC;\n",
              "    }\n",
              "\n",
              "    [theme=dark] .colab-df-convert:hover {\n",
              "      background-color: #434B5C;\n",
              "      box-shadow: 0px 1px 3px 1px rgba(0, 0, 0, 0.15);\n",
              "      filter: drop-shadow(0px 1px 2px rgba(0, 0, 0, 0.3));\n",
              "      fill: #FFFFFF;\n",
              "    }\n",
              "  </style>\n",
              "\n",
              "      <script>\n",
              "        const buttonEl =\n",
              "          document.querySelector('#df-44e944c5-b662-4861-9eca-1bca722794a4 button.colab-df-convert');\n",
              "        buttonEl.style.display =\n",
              "          google.colab.kernel.accessAllowed ? 'block' : 'none';\n",
              "\n",
              "        async function convertToInteractive(key) {\n",
              "          const element = document.querySelector('#df-44e944c5-b662-4861-9eca-1bca722794a4');\n",
              "          const dataTable =\n",
              "            await google.colab.kernel.invokeFunction('convertToInteractive',\n",
              "                                                     [key], {});\n",
              "          if (!dataTable) return;\n",
              "\n",
              "          const docLinkHtml = 'Like what you see? Visit the ' +\n",
              "            '<a target=\"_blank\" href=https://colab.research.google.com/notebooks/data_table.ipynb>data table notebook</a>'\n",
              "            + ' to learn more about interactive tables.';\n",
              "          element.innerHTML = '';\n",
              "          dataTable['output_type'] = 'display_data';\n",
              "          await google.colab.output.renderOutput(dataTable, element);\n",
              "          const docLink = document.createElement('div');\n",
              "          docLink.innerHTML = docLinkHtml;\n",
              "          element.appendChild(docLink);\n",
              "        }\n",
              "      </script>\n",
              "    </div>\n",
              "  </div>\n",
              "  "
            ]
          },
          "metadata": {},
          "execution_count": 16
        }
      ]
    },
    {
      "cell_type": "code",
      "metadata": {
        "id": "Kk7fc4DuJrF1"
      },
      "source": [
        "#Write your function to extract the POS tags\n",
        "\n",
        "def pos_tag(text):\n",
        "  # write your code here\n",
        "  tokens = nltk.word_tokenize(text)\n",
        "  pos_tags = nltk.pos_tag(tokens)\n",
        "  nouns = [word for word, pos in pos_tags if pos.startswith('NN')]\n",
        "  return nouns\n",
        "\n",
        "\n",
        "\n",
        "df_clean[\"complaint_POS_removed\"] =  df_clean['lemmatize_text'].apply(pos_tag)"
      ],
      "execution_count": 17,
      "outputs": []
    },
    {
      "cell_type": "code",
      "metadata": {
        "id": "AjxfchvFJrF2",
        "colab": {
          "base_uri": "https://localhost:8080/",
          "height": 381
        },
        "outputId": "d9192a56-a829-487e-cc08-9df082f15324"
      },
      "source": [
        "#The clean dataframe should now contain the raw complaint, lemmatized complaint and the complaint after removing POS tags.\n",
        "df_clean.head(2)"
      ],
      "execution_count": 31,
      "outputs": [
        {
          "output_type": "execute_result",
          "data": {
            "text/plain": [
              "                                                                                                                                                                                                                                                                                                                                                                                                                                                                 complaint_what_happened  \\\n",
              "1  good morning my name is xxxx xxxx and i appreciate it if you could help me put a stop to chase bank cardmember services in i wrote to chase asking for debt verification and what they sent me a statement which is not acceptable i am asking the bank to validate the debt instead i been receiving mail every month from them attempting to collect a debt i have a right to know this information as a consumer chase account xxxx xxxx xxxx xxxx thanks in advance for your help   \n",
              "2                                                                                                                                         i upgraded my xxxx xxxx card in and was told by the agent who did the upgrade my anniversary date would not change it turned the agent was giving me the wrong information in order to upgrade the account xxxx changed my anniversary date from xxxxxxxx to xxxxxxxx without my consent xxxx has the recording of the agent who was misled me   \n",
              "\n",
              "                                                                                                                                                                                                                                                                                                                                                                                                                                                                        lemmatize_text  \\\n",
              "1  good morning my name is xxxx xxxx and i appreciate it if you could help me put a stop to chase bank cardmember service in i wrote to chase asking for debt verification and what they sent me a statement which is not acceptable i am asking the bank to validate the debt instead i been receiving mail every month from them attempting to collect a debt i have a right to know this information a a consumer chase account xxxx xxxx xxxx xxxx thanks in advance for your help   \n",
              "2                                                                                                                                           i upgraded my xxxx xxxx card in and wa told by the agent who did the upgrade my anniversary date would not change it turned the agent wa giving me the wrong information in order to upgrade the account xxxx changed my anniversary date from xxxxxxxx to xxxxxxxx without my consent xxxx ha the recording of the agent who wa misled me   \n",
              "\n",
              "                                                                                                                                                                                                     complaint_POS_removed  \\\n",
              "1  [morning, name, xxxx, stop, bank, cardmember, service, debt, verification, statement, i, bank, debt, mail, month, debt, i, right, information, consumer, chase, account, xxxx, xxxx, xxxx, xxxx, thanks, advance, help]   \n",
              "2                                                                                                 [i, card, agent, upgrade, date, agent, wa, information, order, account, date, xxxxxxxx, consent, xxxx, recording, agent]   \n",
              "\n",
              "   Complaint_clean  \n",
              "1              NaN  \n",
              "2              NaN  "
            ],
            "text/html": [
              "\n",
              "  <div id=\"df-d645c225-effe-4786-bae6-11c587a19f71\">\n",
              "    <div class=\"colab-df-container\">\n",
              "      <div>\n",
              "<style scoped>\n",
              "    .dataframe tbody tr th:only-of-type {\n",
              "        vertical-align: middle;\n",
              "    }\n",
              "\n",
              "    .dataframe tbody tr th {\n",
              "        vertical-align: top;\n",
              "    }\n",
              "\n",
              "    .dataframe thead th {\n",
              "        text-align: right;\n",
              "    }\n",
              "</style>\n",
              "<table border=\"1\" class=\"dataframe\">\n",
              "  <thead>\n",
              "    <tr style=\"text-align: right;\">\n",
              "      <th></th>\n",
              "      <th>complaint_what_happened</th>\n",
              "      <th>lemmatize_text</th>\n",
              "      <th>complaint_POS_removed</th>\n",
              "      <th>Complaint_clean</th>\n",
              "    </tr>\n",
              "  </thead>\n",
              "  <tbody>\n",
              "    <tr>\n",
              "      <th>1</th>\n",
              "      <td>good morning my name is xxxx xxxx and i appreciate it if you could help me put a stop to chase bank cardmember services in i wrote to chase asking for debt verification and what they sent me a statement which is not acceptable i am asking the bank to validate the debt instead i been receiving mail every month from them attempting to collect a debt i have a right to know this information as a consumer chase account xxxx xxxx xxxx xxxx thanks in advance for your help</td>\n",
              "      <td>good morning my name is xxxx xxxx and i appreciate it if you could help me put a stop to chase bank cardmember service in i wrote to chase asking for debt verification and what they sent me a statement which is not acceptable i am asking the bank to validate the debt instead i been receiving mail every month from them attempting to collect a debt i have a right to know this information a a consumer chase account xxxx xxxx xxxx xxxx thanks in advance for your help</td>\n",
              "      <td>[morning, name, xxxx, stop, bank, cardmember, service, debt, verification, statement, i, bank, debt, mail, month, debt, i, right, information, consumer, chase, account, xxxx, xxxx, xxxx, xxxx, thanks, advance, help]</td>\n",
              "      <td>NaN</td>\n",
              "    </tr>\n",
              "    <tr>\n",
              "      <th>2</th>\n",
              "      <td>i upgraded my xxxx xxxx card in and was told by the agent who did the upgrade my anniversary date would not change it turned the agent was giving me the wrong information in order to upgrade the account xxxx changed my anniversary date from xxxxxxxx to xxxxxxxx without my consent xxxx has the recording of the agent who was misled me</td>\n",
              "      <td>i upgraded my xxxx xxxx card in and wa told by the agent who did the upgrade my anniversary date would not change it turned the agent wa giving me the wrong information in order to upgrade the account xxxx changed my anniversary date from xxxxxxxx to xxxxxxxx without my consent xxxx ha the recording of the agent who wa misled me</td>\n",
              "      <td>[i, card, agent, upgrade, date, agent, wa, information, order, account, date, xxxxxxxx, consent, xxxx, recording, agent]</td>\n",
              "      <td>NaN</td>\n",
              "    </tr>\n",
              "  </tbody>\n",
              "</table>\n",
              "</div>\n",
              "      <button class=\"colab-df-convert\" onclick=\"convertToInteractive('df-d645c225-effe-4786-bae6-11c587a19f71')\"\n",
              "              title=\"Convert this dataframe to an interactive table.\"\n",
              "              style=\"display:none;\">\n",
              "        \n",
              "  <svg xmlns=\"http://www.w3.org/2000/svg\" height=\"24px\"viewBox=\"0 0 24 24\"\n",
              "       width=\"24px\">\n",
              "    <path d=\"M0 0h24v24H0V0z\" fill=\"none\"/>\n",
              "    <path d=\"M18.56 5.44l.94 2.06.94-2.06 2.06-.94-2.06-.94-.94-2.06-.94 2.06-2.06.94zm-11 1L8.5 8.5l.94-2.06 2.06-.94-2.06-.94L8.5 2.5l-.94 2.06-2.06.94zm10 10l.94 2.06.94-2.06 2.06-.94-2.06-.94-.94-2.06-.94 2.06-2.06.94z\"/><path d=\"M17.41 7.96l-1.37-1.37c-.4-.4-.92-.59-1.43-.59-.52 0-1.04.2-1.43.59L10.3 9.45l-7.72 7.72c-.78.78-.78 2.05 0 2.83L4 21.41c.39.39.9.59 1.41.59.51 0 1.02-.2 1.41-.59l7.78-7.78 2.81-2.81c.8-.78.8-2.07 0-2.86zM5.41 20L4 18.59l7.72-7.72 1.47 1.35L5.41 20z\"/>\n",
              "  </svg>\n",
              "      </button>\n",
              "      \n",
              "  <style>\n",
              "    .colab-df-container {\n",
              "      display:flex;\n",
              "      flex-wrap:wrap;\n",
              "      gap: 12px;\n",
              "    }\n",
              "\n",
              "    .colab-df-convert {\n",
              "      background-color: #E8F0FE;\n",
              "      border: none;\n",
              "      border-radius: 50%;\n",
              "      cursor: pointer;\n",
              "      display: none;\n",
              "      fill: #1967D2;\n",
              "      height: 32px;\n",
              "      padding: 0 0 0 0;\n",
              "      width: 32px;\n",
              "    }\n",
              "\n",
              "    .colab-df-convert:hover {\n",
              "      background-color: #E2EBFA;\n",
              "      box-shadow: 0px 1px 2px rgba(60, 64, 67, 0.3), 0px 1px 3px 1px rgba(60, 64, 67, 0.15);\n",
              "      fill: #174EA6;\n",
              "    }\n",
              "\n",
              "    [theme=dark] .colab-df-convert {\n",
              "      background-color: #3B4455;\n",
              "      fill: #D2E3FC;\n",
              "    }\n",
              "\n",
              "    [theme=dark] .colab-df-convert:hover {\n",
              "      background-color: #434B5C;\n",
              "      box-shadow: 0px 1px 3px 1px rgba(0, 0, 0, 0.15);\n",
              "      filter: drop-shadow(0px 1px 2px rgba(0, 0, 0, 0.3));\n",
              "      fill: #FFFFFF;\n",
              "    }\n",
              "  </style>\n",
              "\n",
              "      <script>\n",
              "        const buttonEl =\n",
              "          document.querySelector('#df-d645c225-effe-4786-bae6-11c587a19f71 button.colab-df-convert');\n",
              "        buttonEl.style.display =\n",
              "          google.colab.kernel.accessAllowed ? 'block' : 'none';\n",
              "\n",
              "        async function convertToInteractive(key) {\n",
              "          const element = document.querySelector('#df-d645c225-effe-4786-bae6-11c587a19f71');\n",
              "          const dataTable =\n",
              "            await google.colab.kernel.invokeFunction('convertToInteractive',\n",
              "                                                     [key], {});\n",
              "          if (!dataTable) return;\n",
              "\n",
              "          const docLinkHtml = 'Like what you see? Visit the ' +\n",
              "            '<a target=\"_blank\" href=https://colab.research.google.com/notebooks/data_table.ipynb>data table notebook</a>'\n",
              "            + ' to learn more about interactive tables.';\n",
              "          element.innerHTML = '';\n",
              "          dataTable['output_type'] = 'display_data';\n",
              "          await google.colab.output.renderOutput(dataTable, element);\n",
              "          const docLink = document.createElement('div');\n",
              "          docLink.innerHTML = docLinkHtml;\n",
              "          element.appendChild(docLink);\n",
              "        }\n",
              "      </script>\n",
              "    </div>\n",
              "  </div>\n",
              "  "
            ]
          },
          "metadata": {},
          "execution_count": 31
        }
      ]
    },
    {
      "cell_type": "markdown",
      "metadata": {
        "id": "_7Un1AElJrF2"
      },
      "source": [
        "## Exploratory data analysis to get familiar with the data.\n",
        "\n",
        "Write the code in this task to perform the following:\n",
        "\n",
        "*   Visualise the data according to the 'Complaint' character length\n",
        "*   Using a word cloud find the top 40 words by frequency among all the articles after processing the text\n",
        "*   Find the top unigrams,bigrams and trigrams by frequency among all the complaints after processing the text. ‘\n",
        "\n",
        "\n"
      ]
    },
    {
      "cell_type": "code",
      "metadata": {
        "id": "q-zaqJF6JrF2",
        "colab": {
          "base_uri": "https://localhost:8080/",
          "height": 493
        },
        "outputId": "16dc0349-b252-411e-a953-c02e66787855"
      },
      "source": [
        "# Write your code here to visualise the data according to the 'Complaint' character length\n",
        "df_clean['complaint_len'] = df_clean['complaint_POS_removed'].apply(len)\n",
        "sns.countplot(data=df_clean, x='complaint_len')\n",
        "\n",
        "# Set labels and title\n",
        "plt.xlabel('Complaint Length')\n",
        "plt.ylabel('Count')\n",
        "plt.title('Count of Complaints by Length')\n",
        "\n",
        "# Rotate x-axis labels if needed\n",
        "plt.xticks(rotation=90)\n",
        "\n",
        "# Show the plot\n",
        "plt.show()"
      ],
      "execution_count": 38,
      "outputs": [
        {
          "output_type": "display_data",
          "data": {
            "text/plain": [
              "<Figure size 640x480 with 1 Axes>"
            ],
            "image/png": "[encoded data removed]"
          },
          "metadata": {}
        }
      ]
    },
    {
      "cell_type": "code",
      "source": [
        "df_clean['complaint_len'].sort_values(ascending=False)"
      ],
      "metadata": {
        "id": "oz1hFmf1rJ21",
        "outputId": "6ec61ebb-05a2-41d2-cf62-d5cf148e7c84",
        "colab": {
          "base_uri": "https://localhost:8080/"
        }
      },
      "execution_count": 40,
      "outputs": [
        {
          "output_type": "execute_result",
          "data": {
            "text/plain": [
              "48112    2284\n",
              "31952    2046\n",
              "6262     1720\n",
              "1096     1618\n",
              "3612     1488\n",
              "         ... \n",
              "4721        0\n",
              "8588        0\n",
              "7677        0\n",
              "142         0\n",
              "15185       0\n",
              "Name: complaint_len, Length: 21072, dtype: int64"
            ]
          },
          "metadata": {},
          "execution_count": 40
        }
      ]
    },
    {
      "cell_type": "markdown",
      "metadata": {
        "id": "T9jD_6SeJrF3"
      },
      "source": [
        "#### Find the top 40 words by frequency among all the articles after processing the text."
      ]
    },
    {
      "cell_type": "code",
      "metadata": {
        "id": "QcfdvtfZJrF3",
        "colab": {
          "base_uri": "https://localhost:8080/",
          "height": 446
        },
        "outputId": "c8f8127d-ccdc-4615-d7c3-eee256445b2d"
      },
      "source": [
        "#Using a word cloud find the top 40 words by frequency among all the articles after processing the text\n",
        "from wordcloud import WordCloud\n",
        "\n",
        "# Combine all strings into a single text\n",
        "all_text = ' '.join([text for sublist in df_clean['complaint_POS_removed'] for text in sublist])\n",
        "# all_text\n",
        "\n",
        "# Create a word cloud object\n",
        "wordcloud = WordCloud(width=800, height=400, max_words=40, background_color='white').generate(all_text)\n",
        "\n",
        "# Plot the word cloud\n",
        "plt.figure(figsize=(10, 6))\n",
        "plt.imshow(wordcloud, interpolation='bilinear')\n",
        "plt.axis('off')\n",
        "plt.title('Top 40 Words by Frequency')\n",
        "plt.show()"
      ],
      "execution_count": 44,
      "outputs": [
        {
          "output_type": "display_data",
          "data": {
            "text/plain": [
              "<Figure size 1000x600 with 1 Axes>"
            ],
            "image/png": "[encoded data removed]"
          },
          "metadata": {}
        }
      ]
    },
    {
      "cell_type": "code",
      "metadata": {
        "id": "OkSmc3UaJrF4"
      },
      "source": [
        "#Removing -PRON- from the text corpus\n",
        "df_clean['Complaint_clean'] = df_clean['complaint_POS_removed'].str.replace('-PRON-', '')"
      ],
      "execution_count": 45,
      "outputs": []
    },
    {
      "cell_type": "markdown",
      "metadata": {
        "id": "5DfCSbbmJrF4"
      },
      "source": [
        "#### Find the top unigrams,bigrams and trigrams by frequency among all the complaints after processing the text."
      ]
    },
    {
      "cell_type": "code",
      "metadata": {
        "id": "5mbk5DS5JrF4"
      },
      "source": [
        "#Write your code here to find the top 30 unigram frequency among the complaints in the cleaned datafram(df_clean).\n"
      ],
      "execution_count": 22,
      "outputs": []
    },
    {
      "cell_type": "code",
      "metadata": {
        "id": "YX7fedm1JrF8"
      },
      "source": [
        "#Print the top 10 words in the unigram frequency\n"
      ],
      "execution_count": 23,
      "outputs": []
    },
    {
      "cell_type": "code",
      "metadata": {
        "id": "aV7kD7w8JrF8"
      },
      "source": [
        "#Write your code here to find the top 30 bigram frequency among the complaints in the cleaned datafram(df_clean).\n"
      ],
      "execution_count": 24,
      "outputs": []
    },
    {
      "cell_type": "code",
      "metadata": {
        "id": "NPnMNIpyJrF9"
      },
      "source": [
        "#Print the top 10 words in the bigram frequency"
      ],
      "execution_count": 25,
      "outputs": []
    },
    {
      "cell_type": "code",
      "metadata": {
        "id": "Xkh7vtbtJrF-"
      },
      "source": [
        "#Write your code here to find the top 30 trigram frequency among the complaints in the cleaned datafram(df_clean).\n"
      ],
      "execution_count": 26,
      "outputs": []
    },
    {
      "cell_type": "code",
      "metadata": {
        "id": "REcVxNfvJrF-"
      },
      "source": [
        "#Print the top 10 words in the trigram frequency"
      ],
      "execution_count": 27,
      "outputs": []
    },
    {
      "cell_type": "markdown",
      "metadata": {
        "id": "yUXzFji0JrF_"
      },
      "source": [
        "## The personal details of customer has been masked in the dataset with xxxx. Let's remove the masked text as this will be of no use for our analysis"
      ]
    },
    {
      "cell_type": "code",
      "metadata": {
        "id": "wKda-a_IJrF_",
        "colab": {
          "base_uri": "https://localhost:8080/",
          "height": 311
        },
        "outputId": "62ec2621-11e4-4581-be92-0d1f9925787c"
      },
      "source": [
        "df_clean['Complaint_clean'] = df_clean['Complaint_clean'].str.replace('xxxx','')"
      ],
      "execution_count": 28,
      "outputs": [
        {
          "output_type": "error",
          "ename": "AttributeError",
          "evalue": "ignored",
          "traceback": [
            "\u001b[0;31m---------------------------------------------------------------------------\u001b[0m",
            "\u001b[0;31mAttributeError\u001b[0m                            Traceback (most recent call last)",
            "\u001b[0;32m<ipython-input-28-d4beb8194a2f>\u001b[0m in \u001b[0;36m<cell line: 1>\u001b[0;34m()\u001b[0m\n\u001b[0;32m----> 1\u001b[0;31m \u001b[0mdf_clean\u001b[0m\u001b[0;34m[\u001b[0m\u001b[0;34m'Complaint_clean'\u001b[0m\u001b[0;34m]\u001b[0m \u001b[0;34m=\u001b[0m \u001b[0mdf_clean\u001b[0m\u001b[0;34m[\u001b[0m\u001b[0;34m'Complaint_clean'\u001b[0m\u001b[0;34m]\u001b[0m\u001b[0;34m.\u001b[0m\u001b[0mstr\u001b[0m\u001b[0;34m.\u001b[0m\u001b[0mreplace\u001b[0m\u001b[0;34m(\u001b[0m\u001b[0;34m'xxxx'\u001b[0m\u001b[0;34m,\u001b[0m\u001b[0;34m''\u001b[0m\u001b[0;34m)\u001b[0m\u001b[0;34m\u001b[0m\u001b[0;34m\u001b[0m\u001b[0m\n\u001b[0m",
            "\u001b[0;32m/usr/local/lib/python3.10/dist-packages/pandas/core/generic.py\u001b[0m in \u001b[0;36m__getattr__\u001b[0;34m(self, name)\u001b[0m\n\u001b[1;32m   5900\u001b[0m         ):\n\u001b[1;32m   5901\u001b[0m             \u001b[0;32mreturn\u001b[0m \u001b[0mself\u001b[0m\u001b[0;34m[\u001b[0m\u001b[0mname\u001b[0m\u001b[0;34m]\u001b[0m\u001b[0;34m\u001b[0m\u001b[0;34m\u001b[0m\u001b[0m\n\u001b[0;32m-> 5902\u001b[0;31m         \u001b[0;32mreturn\u001b[0m \u001b[0mobject\u001b[0m\u001b[0;34m.\u001b[0m\u001b[0m__getattribute__\u001b[0m\u001b[0;34m(\u001b[0m\u001b[0mself\u001b[0m\u001b[0;34m,\u001b[0m \u001b[0mname\u001b[0m\u001b[0;34m)\u001b[0m\u001b[0;34m\u001b[0m\u001b[0;34m\u001b[0m\u001b[0m\n\u001b[0m\u001b[1;32m   5903\u001b[0m \u001b[0;34m\u001b[0m\u001b[0m\n\u001b[1;32m   5904\u001b[0m     \u001b[0;32mdef\u001b[0m \u001b[0m__setattr__\u001b[0m\u001b[0;34m(\u001b[0m\u001b[0mself\u001b[0m\u001b[0;34m,\u001b[0m \u001b[0mname\u001b[0m\u001b[0;34m:\u001b[0m \u001b[0mstr\u001b[0m\u001b[0;34m,\u001b[0m \u001b[0mvalue\u001b[0m\u001b[0;34m)\u001b[0m \u001b[0;34m->\u001b[0m \u001b[0;32mNone\u001b[0m\u001b[0;34m:\u001b[0m\u001b[0;34m\u001b[0m\u001b[0;34m\u001b[0m\u001b[0m\n",
            "\u001b[0;32m/usr/local/lib/python3.10/dist-packages/pandas/core/accessor.py\u001b[0m in \u001b[0;36m__get__\u001b[0;34m(self, obj, cls)\u001b[0m\n\u001b[1;32m    180\u001b[0m             \u001b[0;31m# we're accessing the attribute of the class, i.e., Dataset.geo\u001b[0m\u001b[0;34m\u001b[0m\u001b[0;34m\u001b[0m\u001b[0m\n\u001b[1;32m    181\u001b[0m             \u001b[0;32mreturn\u001b[0m \u001b[0mself\u001b[0m\u001b[0;34m.\u001b[0m\u001b[0m_accessor\u001b[0m\u001b[0;34m\u001b[0m\u001b[0;34m\u001b[0m\u001b[0m\n\u001b[0;32m--> 182\u001b[0;31m         \u001b[0maccessor_obj\u001b[0m \u001b[0;34m=\u001b[0m \u001b[0mself\u001b[0m\u001b[0;34m.\u001b[0m\u001b[0m_accessor\u001b[0m\u001b[0;34m(\u001b[0m\u001b[0mobj\u001b[0m\u001b[0;34m)\u001b[0m\u001b[0;34m\u001b[0m\u001b[0;34m\u001b[0m\u001b[0m\n\u001b[0m\u001b[1;32m    183\u001b[0m         \u001b[0;31m# Replace the property with the accessor object. Inspired by:\u001b[0m\u001b[0;34m\u001b[0m\u001b[0;34m\u001b[0m\u001b[0m\n\u001b[1;32m    184\u001b[0m         \u001b[0;31m# https://www.pydanny.com/cached-property.html\u001b[0m\u001b[0;34m\u001b[0m\u001b[0;34m\u001b[0m\u001b[0m\n",
            "\u001b[0;32m/usr/local/lib/python3.10/dist-packages/pandas/core/strings/accessor.py\u001b[0m in \u001b[0;36m__init__\u001b[0;34m(self, data)\u001b[0m\n\u001b[1;32m    179\u001b[0m         \u001b[0;32mfrom\u001b[0m \u001b[0mpandas\u001b[0m\u001b[0;34m.\u001b[0m\u001b[0mcore\u001b[0m\u001b[0;34m.\u001b[0m\u001b[0marrays\u001b[0m\u001b[0;34m.\u001b[0m\u001b[0mstring_\u001b[0m \u001b[0;32mimport\u001b[0m \u001b[0mStringDtype\u001b[0m\u001b[0;34m\u001b[0m\u001b[0;34m\u001b[0m\u001b[0m\n\u001b[1;32m    180\u001b[0m \u001b[0;34m\u001b[0m\u001b[0m\n\u001b[0;32m--> 181\u001b[0;31m         \u001b[0mself\u001b[0m\u001b[0;34m.\u001b[0m\u001b[0m_inferred_dtype\u001b[0m \u001b[0;34m=\u001b[0m \u001b[0mself\u001b[0m\u001b[0;34m.\u001b[0m\u001b[0m_validate\u001b[0m\u001b[0;34m(\u001b[0m\u001b[0mdata\u001b[0m\u001b[0;34m)\u001b[0m\u001b[0;34m\u001b[0m\u001b[0;34m\u001b[0m\u001b[0m\n\u001b[0m\u001b[1;32m    182\u001b[0m         \u001b[0mself\u001b[0m\u001b[0;34m.\u001b[0m\u001b[0m_is_categorical\u001b[0m \u001b[0;34m=\u001b[0m \u001b[0mis_categorical_dtype\u001b[0m\u001b[0;34m(\u001b[0m\u001b[0mdata\u001b[0m\u001b[0;34m.\u001b[0m\u001b[0mdtype\u001b[0m\u001b[0;34m)\u001b[0m\u001b[0;34m\u001b[0m\u001b[0;34m\u001b[0m\u001b[0m\n\u001b[1;32m    183\u001b[0m         \u001b[0mself\u001b[0m\u001b[0;34m.\u001b[0m\u001b[0m_is_string\u001b[0m \u001b[0;34m=\u001b[0m \u001b[0misinstance\u001b[0m\u001b[0;34m(\u001b[0m\u001b[0mdata\u001b[0m\u001b[0;34m.\u001b[0m\u001b[0mdtype\u001b[0m\u001b[0;34m,\u001b[0m \u001b[0mStringDtype\u001b[0m\u001b[0;34m)\u001b[0m\u001b[0;34m\u001b[0m\u001b[0;34m\u001b[0m\u001b[0m\n",
            "\u001b[0;32m/usr/local/lib/python3.10/dist-packages/pandas/core/strings/accessor.py\u001b[0m in \u001b[0;36m_validate\u001b[0;34m(data)\u001b[0m\n\u001b[1;32m    233\u001b[0m \u001b[0;34m\u001b[0m\u001b[0m\n\u001b[1;32m    234\u001b[0m         \u001b[0;32mif\u001b[0m \u001b[0minferred_dtype\u001b[0m \u001b[0;32mnot\u001b[0m \u001b[0;32min\u001b[0m \u001b[0mallowed_types\u001b[0m\u001b[0;34m:\u001b[0m\u001b[0;34m\u001b[0m\u001b[0;34m\u001b[0m\u001b[0m\n\u001b[0;32m--> 235\u001b[0;31m             \u001b[0;32mraise\u001b[0m \u001b[0mAttributeError\u001b[0m\u001b[0;34m(\u001b[0m\u001b[0;34m\"Can only use .str accessor with string values!\"\u001b[0m\u001b[0;34m)\u001b[0m\u001b[0;34m\u001b[0m\u001b[0;34m\u001b[0m\u001b[0m\n\u001b[0m\u001b[1;32m    236\u001b[0m         \u001b[0;32mreturn\u001b[0m \u001b[0minferred_dtype\u001b[0m\u001b[0;34m\u001b[0m\u001b[0;34m\u001b[0m\u001b[0m\n\u001b[1;32m    237\u001b[0m \u001b[0;34m\u001b[0m\u001b[0m\n",
            "\u001b[0;31mAttributeError\u001b[0m: Can only use .str accessor with string values!"
          ]
        }
      ]
    },
    {
      "cell_type": "code",
      "metadata": {
        "id": "9UIFk8fQJrF_"
      },
      "source": [
        "#All masked texts has been removed\n",
        "df_clean"
      ],
      "execution_count": null,
      "outputs": []
    },
    {
      "cell_type": "markdown",
      "metadata": {
        "id": "k-I0k0QtJrGA"
      },
      "source": [
        "## Feature Extraction\n",
        "Convert the raw texts to a matrix of TF-IDF features\n",
        "\n",
        "**max_df** is used for removing terms that appear too frequently, also known as \"corpus-specific stop words\"\n",
        "max_df = 0.95 means \"ignore terms that appear in more than 95% of the complaints\"\n",
        "\n",
        "**min_df** is used for removing terms that appear too infrequently\n",
        "min_df = 2 means \"ignore terms that appear in less than 2 complaints\""
      ]
    },
    {
      "cell_type": "code",
      "metadata": {
        "id": "Y8fGwaCPJrGA"
      },
      "source": [
        "#Write your code here to initialise the TfidfVectorizer\n",
        "\n"
      ],
      "execution_count": null,
      "outputs": []
    },
    {
      "cell_type": "markdown",
      "metadata": {
        "id": "yYzD85nTJrGA"
      },
      "source": [
        "#### Create a document term matrix using fit_transform\n",
        "\n",
        "The contents of a document term matrix are tuples of (complaint_id,token_id) tf-idf score:\n",
        "The tuples that are not there have a tf-idf score of 0"
      ]
    },
    {
      "cell_type": "code",
      "metadata": {
        "id": "ffzdDpp_JrGB"
      },
      "source": [
        "#Write your code here to create the Document Term Matrix by transforming the complaints column present in df_clean.\n"
      ],
      "execution_count": null,
      "outputs": []
    },
    {
      "cell_type": "markdown",
      "metadata": {
        "id": "7Q9lwvNEJrGB"
      },
      "source": [
        "## Topic Modelling using NMF\n",
        "\n",
        "Non-Negative Matrix Factorization (NMF) is an unsupervised technique so there are no labeling of topics that the model will be trained on. The way it works is that, NMF decomposes (or factorizes) high-dimensional vectors into a lower-dimensional representation. These lower-dimensional vectors are non-negative which also means their coefficients are non-negative.\n",
        "\n",
        "In this task you have to perform the following:\n",
        "\n",
        "* Find the best number of clusters\n",
        "* Apply the best number to create word clusters\n",
        "* Inspect & validate the correction of each cluster wrt the complaints\n",
        "* Correct the labels if needed\n",
        "* Map the clusters to topics/cluster names"
      ]
    },
    {
      "cell_type": "code",
      "metadata": {
        "id": "amLT4omWJrGB"
      },
      "source": [
        "from sklearn.decomposition import NMF"
      ],
      "execution_count": null,
      "outputs": []
    },
    {
      "cell_type": "markdown",
      "metadata": {
        "id": "0wYR1xUTJrGD"
      },
      "source": [
        "## Manual Topic Modeling\n",
        "You need to do take the trial & error approach to find the best num of topics for your NMF model.\n",
        "\n",
        "The only parameter that is required is the number of components i.e. the number of topics we want. This is the most crucial step in the whole topic modeling process and will greatly affect how good your final topics are."
      ]
    },
    {
      "cell_type": "code",
      "metadata": {
        "id": "sgd2A6bhJrGD"
      },
      "source": [
        "#Load your nmf_model with the n_components i.e 5\n",
        "num_topics = #write the value you want to test out\n",
        "\n",
        "#keep the random_state =40\n",
        "nmf_model = #write your code here"
      ],
      "execution_count": null,
      "outputs": []
    },
    {
      "cell_type": "code",
      "metadata": {
        "id": "VPMDYbt_JrGE"
      },
      "source": [
        "nmf_model.fit(dtm)\n",
        "len(tfidf.get_feature_names())"
      ],
      "execution_count": null,
      "outputs": []
    },
    {
      "cell_type": "code",
      "metadata": {
        "id": "16kRfat5JrGE"
      },
      "source": [
        "#Print the Top15 words for each of the topics\n"
      ],
      "execution_count": null,
      "outputs": []
    },
    {
      "cell_type": "code",
      "metadata": {
        "id": "0OIT7LmFJrGF"
      },
      "source": [
        "#Create the best topic for each complaint in terms of integer value 0,1,2,3 & 4\n",
        "\n"
      ],
      "execution_count": null,
      "outputs": []
    },
    {
      "cell_type": "code",
      "metadata": {
        "id": "peyYv-ORJrGF"
      },
      "source": [
        "#Assign the best topic to each of the cmplaints in Topic Column\n",
        "\n",
        "df_clean['Topic'] = #write your code to assign topics to each rows."
      ],
      "execution_count": null,
      "outputs": []
    },
    {
      "cell_type": "code",
      "metadata": {
        "id": "fLh_Gf3nJrGF"
      },
      "source": [
        "df_clean.head()"
      ],
      "execution_count": null,
      "outputs": []
    },
    {
      "cell_type": "code",
      "metadata": {
        "id": "aQKpufSPJrGG"
      },
      "source": [
        "#Print the first 5 Complaint for each of the Topics\n",
        "df_clean=df_clean.groupby('Topic').head(5)\n",
        "df_clean.sort_values('Topic')"
      ],
      "execution_count": null,
      "outputs": []
    },
    {
      "cell_type": "markdown",
      "metadata": {
        "id": "piyLxzj6v07j"
      },
      "source": [
        "#### After evaluating the mapping, if the topics assigned are correct then assign these names to the relevant topic:\n",
        "* Bank Account services\n",
        "* Credit card or prepaid card\n",
        "* Theft/Dispute Reporting\n",
        "* Mortgage/Loan\n",
        "* Others"
      ]
    },
    {
      "cell_type": "code",
      "metadata": {
        "id": "TWpwDG4RJrGG"
      },
      "source": [
        "#Create the dictionary of Topic names and Topics\n",
        "\n",
        "Topic_names = {   }\n",
        "#Replace Topics with Topic Names\n",
        "df_clean['Topic'] = df_clean['Topic'].map(Topic_names)"
      ],
      "execution_count": null,
      "outputs": []
    },
    {
      "cell_type": "code",
      "metadata": {
        "id": "-2ULY5K6JrGG"
      },
      "source": [
        "df_clean"
      ],
      "execution_count": null,
      "outputs": []
    },
    {
      "cell_type": "markdown",
      "metadata": {
        "id": "7Mu0QBOcJrGH"
      },
      "source": [
        "## Supervised model to predict any new complaints to the relevant Topics.\n",
        "\n",
        "You have now build the model to create the topics for each complaints.Now in the below section you will use them to classify any new complaints.\n",
        "\n",
        "Since you will be using supervised learning technique we have to convert the topic names to numbers(numpy arrays only understand numbers)"
      ]
    },
    {
      "cell_type": "code",
      "metadata": {
        "id": "_U8J3J8wJrGH"
      },
      "source": [
        "#Create the dictionary again of Topic names and Topics\n",
        "\n",
        "Topic_names = {   }\n",
        "#Replace Topics with Topic Names\n",
        "df_clean['Topic'] = df_clean['Topic'].map(Topic_names)"
      ],
      "execution_count": null,
      "outputs": []
    },
    {
      "cell_type": "code",
      "metadata": {
        "id": "BWIgJUkQJrGH"
      },
      "source": [
        "df_clean"
      ],
      "execution_count": null,
      "outputs": []
    },
    {
      "cell_type": "code",
      "metadata": {
        "id": "Xx-FrbkWJrGH"
      },
      "source": [
        "#Keep the columns\"complaint_what_happened\" & \"Topic\" only in the new dataframe --> training_data\n",
        "training_data="
      ],
      "execution_count": null,
      "outputs": []
    },
    {
      "cell_type": "code",
      "metadata": {
        "id": "lVg2pa12JrGI"
      },
      "source": [
        "training_data"
      ],
      "execution_count": null,
      "outputs": []
    },
    {
      "cell_type": "markdown",
      "metadata": {
        "id": "280Vbqk-7a8M"
      },
      "source": [
        "####Apply the supervised models on the training data created. In this process, you have to do the following:\n",
        "* Create the vector counts using Count Vectoriser\n",
        "* Transform the word vecotr to tf-idf\n",
        "* Create the train & test data using the train_test_split on the tf-idf & topics\n"
      ]
    },
    {
      "cell_type": "code",
      "metadata": {
        "id": "oUlQpgkzJrGI"
      },
      "source": [
        "\n",
        "#Write your code to get the Vector count\n",
        "\n",
        "\n",
        "#Write your code here to transform the word vector to tf-idf"
      ],
      "execution_count": null,
      "outputs": []
    },
    {
      "cell_type": "markdown",
      "metadata": {
        "id": "uMU3vj6w-wqL"
      },
      "source": [
        "You have to try atleast 3 models on the train & test data from these options:\n",
        "* Logistic regression\n",
        "* Decision Tree\n",
        "* Random Forest\n",
        "* Naive Bayes (optional)\n",
        "\n",
        "**Using the required evaluation metrics judge the tried models and select the ones performing the best**"
      ]
    },
    {
      "cell_type": "code",
      "metadata": {
        "id": "udLHpPsZJrGI"
      },
      "source": [
        "# Write your code here to build any 3 models and evaluate them using the required metrics\n",
        "\n",
        "\n",
        "\n"
      ],
      "execution_count": null,
      "outputs": []
    },
    {
      "cell_type": "code",
      "metadata": {
        "id": "N2OznsObJrGP"
      },
      "source": [],
      "execution_count": null,
      "outputs": []
    }
  ]
}